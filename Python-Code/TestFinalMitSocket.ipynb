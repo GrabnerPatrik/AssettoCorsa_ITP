{
 "cells": [
  {
   "cell_type": "code",
   "execution_count": null,
   "id": "cbd43a73-216a-46be-8609-b779a478ab93",
   "metadata": {},
   "outputs": [
    {
     "name": "stdout",
     "output_type": "stream",
     "text": [
      "Socket initialized with IP 127.0.0.1 and port 9996\n",
      "SimHub shared memory initialized.\n",
      "Sending handshake...\n",
      "Packet sent to 127.0.0.1:9996\n",
      "Sending update...\n",
      "Packet sent to 127.0.0.1:9996\n",
      " * Serving Flask app '__main__'\n",
      " * Debug mode: off\n"
     ]
    },
    {
     "name": "stderr",
     "output_type": "stream",
     "text": [
      "WARNING: This is a development server. Do not use it in a production deployment. Use a production WSGI server instead.\n",
      " * Running on all addresses (0.0.0.0)\n",
      " * Running on http://127.0.0.1:5000\n",
      " * Running on http://192.168.0.202:5000\n",
      "Press CTRL+C to quit\n"
     ]
    },
    {
     "name": "stdout",
     "output_type": "stream",
     "text": [
      "Received buffer length: 408\n"
     ]
    },
    {
     "name": "stderr",
     "output_type": "stream",
     "text": [
      "127.0.0.1 - - [04/Nov/2024 11:53:32] \"GET /telemetry HTTP/1.1\" 200 -\n"
     ]
    },
    {
     "name": "stdout",
     "output_type": "stream",
     "text": [
      "Sending handshake...\n",
      "Packet sent to 127.0.0.1:9996\n",
      "Sending update...\n",
      "Packet sent to 127.0.0.1:9996\n",
      "Received buffer length: 328\n"
     ]
    },
    {
     "name": "stderr",
     "output_type": "stream",
     "text": [
      "127.0.0.1 - - [04/Nov/2024 11:53:37] \"GET /telemetry HTTP/1.1\" 200 -\n",
      "127.0.0.1 - - [04/Nov/2024 11:53:38] \"GET /telemetry HTTP/1.1\" 200 -\n"
     ]
    },
    {
     "name": "stdout",
     "output_type": "stream",
     "text": [
      "Sending handshake...\n",
      "Packet sent to 127.0.0.1:9996\n",
      "Sending update...\n",
      "Packet sent to 127.0.0.1:9996\n",
      "Received buffer length: 328\n"
     ]
    },
    {
     "name": "stderr",
     "output_type": "stream",
     "text": [
      "127.0.0.1 - - [04/Nov/2024 11:53:41] \"GET /telemetry HTTP/1.1\" 200 -\n",
      "127.0.0.1 - - [04/Nov/2024 11:53:42] \"GET /telemetry HTTP/1.1\" 200 -\n"
     ]
    },
    {
     "name": "stdout",
     "output_type": "stream",
     "text": [
      "Sending handshake...\n",
      "Packet sent to 127.0.0.1:9996\n",
      "Sending update...\n",
      "Packet sent to 127.0.0.1:9996\n",
      "Received buffer length: 328\n"
     ]
    },
    {
     "name": "stderr",
     "output_type": "stream",
     "text": [
      "127.0.0.1 - - [04/Nov/2024 11:53:49] \"GET /telemetry HTTP/1.1\" 200 -\n"
     ]
    },
    {
     "name": "stdout",
     "output_type": "stream",
     "text": [
      "Sending handshake...\n",
      "Packet sent to 127.0.0.1:9996\n",
      "Sending update...\n",
      "Packet sent to 127.0.0.1:9996\n",
      "Received buffer length: 328\n",
      "Sending handshake...\n",
      "Packet sent to 127.0.0.1:9996\n",
      "Sending update...\n",
      "Packet sent to 127.0.0.1:9996\n",
      "Received buffer length: 328\n"
     ]
    },
    {
     "name": "stderr",
     "output_type": "stream",
     "text": [
      "127.0.0.1 - - [04/Nov/2024 11:53:56] \"GET /telemetry HTTP/1.1\" 200 -\n",
      "127.0.0.1 - - [04/Nov/2024 11:54:01] \"GET /telemetry HTTP/1.1\" 200 -\n"
     ]
    },
    {
     "name": "stdout",
     "output_type": "stream",
     "text": [
      "Sending handshake...\n",
      "Packet sent to 127.0.0.1:9996\n",
      "Sending update...\n",
      "Packet sent to 127.0.0.1:9996\n",
      "Received buffer length: 328\n",
      "Sending handshake...\n",
      "Packet sent to 127.0.0.1:9996\n",
      "Sending update...\n",
      "Packet sent to 127.0.0.1:9996\n",
      "Received buffer length: 328\n"
     ]
    },
    {
     "name": "stderr",
     "output_type": "stream",
     "text": [
      "127.0.0.1 - - [04/Nov/2024 11:54:06] \"GET /telemetry HTTP/1.1\" 200 -\n",
      "127.0.0.1 - - [04/Nov/2024 11:54:11] \"GET /telemetry HTTP/1.1\" 200 -\n"
     ]
    },
    {
     "name": "stdout",
     "output_type": "stream",
     "text": [
      "Sending handshake...\n",
      "Packet sent to 127.0.0.1:9996\n",
      "Sending update...\n",
      "Packet sent to 127.0.0.1:9996\n",
      "Received buffer length: 328\n",
      "Sending handshake...\n",
      "Packet sent to 127.0.0.1:9996\n",
      "Sending update...\n",
      "Packet sent to 127.0.0.1:9996\n",
      "Received buffer length: 328\n"
     ]
    },
    {
     "name": "stderr",
     "output_type": "stream",
     "text": [
      "127.0.0.1 - - [04/Nov/2024 11:54:16] \"GET /telemetry HTTP/1.1\" 200 -\n",
      "127.0.0.1 - - [04/Nov/2024 11:54:21] \"GET /telemetry HTTP/1.1\" 200 -\n"
     ]
    },
    {
     "name": "stdout",
     "output_type": "stream",
     "text": [
      "Sending handshake...\n",
      "Packet sent to 127.0.0.1:9996\n",
      "Sending update...\n",
      "Packet sent to 127.0.0.1:9996\n",
      "Received buffer length: 328\n",
      "Sending handshake...\n",
      "Packet sent to 127.0.0.1:9996\n",
      "Sending update...\n",
      "Packet sent to 127.0.0.1:9996\n",
      "Received buffer length: 328\n"
     ]
    },
    {
     "name": "stderr",
     "output_type": "stream",
     "text": [
      "127.0.0.1 - - [04/Nov/2024 11:54:26] \"GET /telemetry HTTP/1.1\" 200 -\n",
      "127.0.0.1 - - [04/Nov/2024 11:54:31] \"GET /telemetry HTTP/1.1\" 200 -\n"
     ]
    },
    {
     "name": "stdout",
     "output_type": "stream",
     "text": [
      "Sending handshake...\n",
      "Packet sent to 127.0.0.1:9996\n",
      "Sending update...\n",
      "Packet sent to 127.0.0.1:9996\n",
      "Received buffer length: 328\n",
      "Sending handshake...\n",
      "Packet sent to 127.0.0.1:9996\n",
      "Sending update...\n",
      "Packet sent to 127.0.0.1:9996\n",
      "Received buffer length: 328\n"
     ]
    },
    {
     "name": "stderr",
     "output_type": "stream",
     "text": [
      "127.0.0.1 - - [04/Nov/2024 11:54:36] \"GET /telemetry HTTP/1.1\" 200 -\n"
     ]
    },
    {
     "name": "stdout",
     "output_type": "stream",
     "text": [
      "Sending handshake...\n",
      "Packet sent to 127.0.0.1:9996\n",
      "Sending update...\n",
      "Packet sent to 127.0.0.1:9996\n",
      "Received buffer length: 328\n"
     ]
    },
    {
     "name": "stderr",
     "output_type": "stream",
     "text": [
      "127.0.0.1 - - [04/Nov/2024 11:54:42] \"GET /telemetry HTTP/1.1\" 200 -\n"
     ]
    },
    {
     "name": "stdout",
     "output_type": "stream",
     "text": [
      "Sending handshake...\n",
      "Packet sent to 127.0.0.1:9996\n",
      "Sending update...\n",
      "Packet sent to 127.0.0.1:9996\n",
      "Received buffer length: 328\n"
     ]
    },
    {
     "name": "stderr",
     "output_type": "stream",
     "text": [
      "127.0.0.1 - - [04/Nov/2024 11:54:47] \"GET /telemetry HTTP/1.1\" 200 -\n"
     ]
    },
    {
     "name": "stdout",
     "output_type": "stream",
     "text": [
      "Sending handshake...\n",
      "Packet sent to 127.0.0.1:9996\n",
      "Sending update...\n",
      "Packet sent to 127.0.0.1:9996\n",
      "Received buffer length: 328\n"
     ]
    },
    {
     "name": "stderr",
     "output_type": "stream",
     "text": [
      "127.0.0.1 - - [04/Nov/2024 11:54:52] \"GET /telemetry HTTP/1.1\" 200 -\n"
     ]
    },
    {
     "name": "stdout",
     "output_type": "stream",
     "text": [
      "Sending handshake...\n",
      "Packet sent to 127.0.0.1:9996\n",
      "Sending update...\n",
      "Packet sent to 127.0.0.1:9996\n",
      "Received buffer length: 328\n"
     ]
    },
    {
     "name": "stderr",
     "output_type": "stream",
     "text": [
      "127.0.0.1 - - [04/Nov/2024 11:54:57] \"GET /telemetry HTTP/1.1\" 200 -\n"
     ]
    },
    {
     "name": "stdout",
     "output_type": "stream",
     "text": [
      "Sending handshake...\n",
      "Packet sent to 127.0.0.1:9996\n",
      "Sending update...\n",
      "Packet sent to 127.0.0.1:9996\n",
      "Received buffer length: 328\n"
     ]
    },
    {
     "name": "stderr",
     "output_type": "stream",
     "text": [
      "127.0.0.1 - - [04/Nov/2024 11:55:02] \"GET /telemetry HTTP/1.1\" 200 -\n"
     ]
    },
    {
     "name": "stdout",
     "output_type": "stream",
     "text": [
      "Sending handshake...\n",
      "Packet sent to 127.0.0.1:9996\n",
      "Sending update...\n",
      "Packet sent to 127.0.0.1:9996\n",
      "Received buffer length: 328\n"
     ]
    },
    {
     "name": "stderr",
     "output_type": "stream",
     "text": [
      "127.0.0.1 - - [04/Nov/2024 11:55:07] \"GET /telemetry HTTP/1.1\" 200 -\n"
     ]
    },
    {
     "name": "stdout",
     "output_type": "stream",
     "text": [
      "Sending handshake...\n",
      "Packet sent to 127.0.0.1:9996\n",
      "Sending update...\n",
      "Packet sent to 127.0.0.1:9996\n",
      "Received buffer length: 328\n"
     ]
    },
    {
     "name": "stderr",
     "output_type": "stream",
     "text": [
      "127.0.0.1 - - [04/Nov/2024 11:55:12] \"GET /telemetry HTTP/1.1\" 200 -\n"
     ]
    },
    {
     "name": "stdout",
     "output_type": "stream",
     "text": [
      "Sending handshake...\n",
      "Packet sent to 127.0.0.1:9996\n",
      "Sending update...\n",
      "Packet sent to 127.0.0.1:9996\n",
      "Received buffer length: 328\n"
     ]
    },
    {
     "name": "stderr",
     "output_type": "stream",
     "text": [
      "127.0.0.1 - - [04/Nov/2024 11:55:17] \"GET /telemetry HTTP/1.1\" 200 -\n"
     ]
    },
    {
     "name": "stdout",
     "output_type": "stream",
     "text": [
      "Sending handshake...\n",
      "Packet sent to 127.0.0.1:9996\n",
      "Sending update...\n",
      "Packet sent to 127.0.0.1:9996\n",
      "Received buffer length: 328\n"
     ]
    },
    {
     "name": "stderr",
     "output_type": "stream",
     "text": [
      "127.0.0.1 - - [04/Nov/2024 11:55:22] \"GET /telemetry HTTP/1.1\" 200 -\n"
     ]
    },
    {
     "name": "stdout",
     "output_type": "stream",
     "text": [
      "Sending handshake...\n",
      "Packet sent to 127.0.0.1:9996\n",
      "Sending update...\n",
      "Packet sent to 127.0.0.1:9996\n",
      "Received buffer length: 328\n"
     ]
    },
    {
     "name": "stderr",
     "output_type": "stream",
     "text": [
      "127.0.0.1 - - [04/Nov/2024 11:55:27] \"GET /telemetry HTTP/1.1\" 200 -\n"
     ]
    },
    {
     "name": "stdout",
     "output_type": "stream",
     "text": [
      "Sending handshake...\n",
      "Packet sent to 127.0.0.1:9996\n",
      "Sending update...\n",
      "Packet sent to 127.0.0.1:9996\n",
      "Received buffer length: 328\n"
     ]
    },
    {
     "name": "stderr",
     "output_type": "stream",
     "text": [
      "127.0.0.1 - - [04/Nov/2024 11:55:32] \"GET /telemetry HTTP/1.1\" 200 -\n"
     ]
    },
    {
     "name": "stdout",
     "output_type": "stream",
     "text": [
      "Sending handshake...\n",
      "Packet sent to 127.0.0.1:9996\n",
      "Sending update...\n",
      "Packet sent to 127.0.0.1:9996\n",
      "Received buffer length: 328\n"
     ]
    },
    {
     "name": "stderr",
     "output_type": "stream",
     "text": [
      "127.0.0.1 - - [04/Nov/2024 11:55:37] \"GET /telemetry HTTP/1.1\" 200 -\n"
     ]
    },
    {
     "name": "stdout",
     "output_type": "stream",
     "text": [
      "Sending handshake...\n",
      "Packet sent to 127.0.0.1:9996\n",
      "Sending update...\n",
      "Packet sent to 127.0.0.1:9996\n",
      "Received buffer length: 328\n"
     ]
    },
    {
     "name": "stderr",
     "output_type": "stream",
     "text": [
      "127.0.0.1 - - [04/Nov/2024 11:55:42] \"GET /telemetry HTTP/1.1\" 200 -\n"
     ]
    },
    {
     "name": "stdout",
     "output_type": "stream",
     "text": [
      "Sending handshake...\n",
      "Packet sent to 127.0.0.1:9996\n",
      "Sending update...\n",
      "Packet sent to 127.0.0.1:9996\n",
      "Received buffer length: 328\n"
     ]
    },
    {
     "name": "stderr",
     "output_type": "stream",
     "text": [
      "127.0.0.1 - - [04/Nov/2024 11:55:47] \"GET /telemetry HTTP/1.1\" 200 -\n"
     ]
    },
    {
     "name": "stdout",
     "output_type": "stream",
     "text": [
      "Sending handshake...\n",
      "Packet sent to 127.0.0.1:9996\n",
      "Sending update...\n",
      "Packet sent to 127.0.0.1:9996\n",
      "Received buffer length: 328\n"
     ]
    },
    {
     "name": "stderr",
     "output_type": "stream",
     "text": [
      "127.0.0.1 - - [04/Nov/2024 11:55:52] \"GET /telemetry HTTP/1.1\" 200 -\n"
     ]
    },
    {
     "name": "stdout",
     "output_type": "stream",
     "text": [
      "Sending handshake...\n",
      "Packet sent to 127.0.0.1:9996\n",
      "Sending update...\n",
      "Packet sent to 127.0.0.1:9996\n",
      "Received buffer length: 328\n"
     ]
    },
    {
     "name": "stderr",
     "output_type": "stream",
     "text": [
      "127.0.0.1 - - [04/Nov/2024 11:55:57] \"GET /telemetry HTTP/1.1\" 200 -\n"
     ]
    },
    {
     "name": "stdout",
     "output_type": "stream",
     "text": [
      "Sending handshake...\n",
      "Packet sent to 127.0.0.1:9996\n",
      "Sending update...\n",
      "Packet sent to 127.0.0.1:9996\n",
      "Received buffer length: 328\n"
     ]
    },
    {
     "name": "stderr",
     "output_type": "stream",
     "text": [
      "127.0.0.1 - - [04/Nov/2024 11:56:02] \"GET /telemetry HTTP/1.1\" 200 -\n"
     ]
    },
    {
     "name": "stdout",
     "output_type": "stream",
     "text": [
      "Sending handshake...\n",
      "Packet sent to 127.0.0.1:9996\n",
      "Sending update...\n",
      "Packet sent to 127.0.0.1:9996\n",
      "Received buffer length: 328\n"
     ]
    },
    {
     "name": "stderr",
     "output_type": "stream",
     "text": [
      "127.0.0.1 - - [04/Nov/2024 11:56:07] \"GET /telemetry HTTP/1.1\" 200 -\n"
     ]
    },
    {
     "name": "stdout",
     "output_type": "stream",
     "text": [
      "Sending handshake...\n",
      "Packet sent to 127.0.0.1:9996\n",
      "Sending update...\n",
      "Packet sent to 127.0.0.1:9996\n",
      "Received buffer length: 328\n"
     ]
    },
    {
     "name": "stderr",
     "output_type": "stream",
     "text": [
      "127.0.0.1 - - [04/Nov/2024 11:56:12] \"GET /telemetry HTTP/1.1\" 200 -\n"
     ]
    },
    {
     "name": "stdout",
     "output_type": "stream",
     "text": [
      "Sending handshake...\n",
      "Packet sent to 127.0.0.1:9996\n",
      "Sending update...\n",
      "Packet sent to 127.0.0.1:9996\n",
      "Received buffer length: 328\n"
     ]
    },
    {
     "name": "stderr",
     "output_type": "stream",
     "text": [
      "127.0.0.1 - - [04/Nov/2024 11:56:17] \"GET /telemetry HTTP/1.1\" 200 -\n"
     ]
    },
    {
     "name": "stdout",
     "output_type": "stream",
     "text": [
      "Sending handshake...\n",
      "Packet sent to 127.0.0.1:9996\n",
      "Sending update...\n",
      "Packet sent to 127.0.0.1:9996\n",
      "Received buffer length: 328\n"
     ]
    },
    {
     "name": "stderr",
     "output_type": "stream",
     "text": [
      "127.0.0.1 - - [04/Nov/2024 11:56:22] \"GET /telemetry HTTP/1.1\" 200 -\n"
     ]
    },
    {
     "name": "stdout",
     "output_type": "stream",
     "text": [
      "Sending handshake...\n",
      "Packet sent to 127.0.0.1:9996\n",
      "Sending update...\n",
      "Packet sent to 127.0.0.1:9996\n",
      "Received buffer length: 328\n"
     ]
    },
    {
     "name": "stderr",
     "output_type": "stream",
     "text": [
      "127.0.0.1 - - [04/Nov/2024 11:56:27] \"GET /telemetry HTTP/1.1\" 200 -\n"
     ]
    },
    {
     "name": "stdout",
     "output_type": "stream",
     "text": [
      "Sending handshake...\n",
      "Packet sent to 127.0.0.1:9996\n",
      "Sending update...\n",
      "Packet sent to 127.0.0.1:9996\n",
      "Received buffer length: 328\n"
     ]
    },
    {
     "name": "stderr",
     "output_type": "stream",
     "text": [
      "127.0.0.1 - - [04/Nov/2024 11:56:32] \"GET /telemetry HTTP/1.1\" 200 -\n"
     ]
    },
    {
     "name": "stdout",
     "output_type": "stream",
     "text": [
      "Sending handshake...\n",
      "Packet sent to 127.0.0.1:9996\n",
      "Sending update...\n",
      "Packet sent to 127.0.0.1:9996\n",
      "Received buffer length: 328\n"
     ]
    },
    {
     "name": "stderr",
     "output_type": "stream",
     "text": [
      "127.0.0.1 - - [04/Nov/2024 11:56:37] \"GET /telemetry HTTP/1.1\" 200 -\n"
     ]
    },
    {
     "name": "stdout",
     "output_type": "stream",
     "text": [
      "Sending handshake...\n",
      "Packet sent to 127.0.0.1:9996\n",
      "Sending update...\n",
      "Packet sent to 127.0.0.1:9996\n",
      "Received buffer length: 328\n"
     ]
    },
    {
     "name": "stderr",
     "output_type": "stream",
     "text": [
      "127.0.0.1 - - [04/Nov/2024 11:56:42] \"GET /telemetry HTTP/1.1\" 200 -\n"
     ]
    },
    {
     "name": "stdout",
     "output_type": "stream",
     "text": [
      "Sending handshake...\n",
      "Packet sent to 127.0.0.1:9996\n",
      "Sending update...\n",
      "Packet sent to 127.0.0.1:9996\n",
      "Received buffer length: 328\n"
     ]
    },
    {
     "name": "stderr",
     "output_type": "stream",
     "text": [
      "127.0.0.1 - - [04/Nov/2024 11:56:47] \"GET /telemetry HTTP/1.1\" 200 -\n"
     ]
    },
    {
     "name": "stdout",
     "output_type": "stream",
     "text": [
      "Sending handshake...\n",
      "Packet sent to 127.0.0.1:9996\n",
      "Sending update...\n",
      "Packet sent to 127.0.0.1:9996\n",
      "Received buffer length: 328\n"
     ]
    },
    {
     "name": "stderr",
     "output_type": "stream",
     "text": [
      "127.0.0.1 - - [04/Nov/2024 11:56:52] \"GET /telemetry HTTP/1.1\" 200 -\n"
     ]
    },
    {
     "name": "stdout",
     "output_type": "stream",
     "text": [
      "Sending handshake...\n",
      "Packet sent to 127.0.0.1:9996\n",
      "Sending update...\n",
      "Packet sent to 127.0.0.1:9996\n",
      "Received buffer length: 328\n"
     ]
    },
    {
     "name": "stderr",
     "output_type": "stream",
     "text": [
      "127.0.0.1 - - [04/Nov/2024 11:56:57] \"GET /telemetry HTTP/1.1\" 200 -\n"
     ]
    },
    {
     "name": "stdout",
     "output_type": "stream",
     "text": [
      "Sending handshake...\n",
      "Packet sent to 127.0.0.1:9996\n",
      "Sending update...\n",
      "Packet sent to 127.0.0.1:9996\n",
      "Received buffer length: 328\n"
     ]
    },
    {
     "name": "stderr",
     "output_type": "stream",
     "text": [
      "127.0.0.1 - - [04/Nov/2024 11:57:02] \"GET /telemetry HTTP/1.1\" 200 -\n"
     ]
    },
    {
     "name": "stdout",
     "output_type": "stream",
     "text": [
      "Sending handshake...\n",
      "Packet sent to 127.0.0.1:9996\n",
      "Sending update...\n",
      "Packet sent to 127.0.0.1:9996\n",
      "Received buffer length: 328\n"
     ]
    },
    {
     "name": "stderr",
     "output_type": "stream",
     "text": [
      "127.0.0.1 - - [04/Nov/2024 11:57:07] \"GET /telemetry HTTP/1.1\" 200 -\n"
     ]
    },
    {
     "name": "stdout",
     "output_type": "stream",
     "text": [
      "Sending handshake...\n",
      "Packet sent to 127.0.0.1:9996\n",
      "Sending update...\n",
      "Packet sent to 127.0.0.1:9996\n",
      "Received buffer length: 328\n"
     ]
    },
    {
     "name": "stderr",
     "output_type": "stream",
     "text": [
      "127.0.0.1 - - [04/Nov/2024 11:57:12] \"GET /telemetry HTTP/1.1\" 200 -\n"
     ]
    },
    {
     "name": "stdout",
     "output_type": "stream",
     "text": [
      "Sending handshake...\n",
      "Packet sent to 127.0.0.1:9996\n",
      "Sending update...\n",
      "Packet sent to 127.0.0.1:9996\n",
      "Received buffer length: 328\n"
     ]
    },
    {
     "name": "stderr",
     "output_type": "stream",
     "text": [
      "127.0.0.1 - - [04/Nov/2024 11:57:17] \"GET /telemetry HTTP/1.1\" 200 -\n"
     ]
    },
    {
     "name": "stdout",
     "output_type": "stream",
     "text": [
      "Sending handshake...\n",
      "Packet sent to 127.0.0.1:9996\n",
      "Sending update...\n",
      "Packet sent to 127.0.0.1:9996\n",
      "Received buffer length: 328\n"
     ]
    },
    {
     "name": "stderr",
     "output_type": "stream",
     "text": [
      "127.0.0.1 - - [04/Nov/2024 11:57:22] \"GET /telemetry HTTP/1.1\" 200 -\n"
     ]
    },
    {
     "name": "stdout",
     "output_type": "stream",
     "text": [
      "Sending handshake...\n",
      "Packet sent to 127.0.0.1:9996\n",
      "Sending update...\n",
      "Packet sent to 127.0.0.1:9996\n",
      "Received buffer length: 328\n"
     ]
    },
    {
     "name": "stderr",
     "output_type": "stream",
     "text": [
      "127.0.0.1 - - [04/Nov/2024 11:57:27] \"GET /telemetry HTTP/1.1\" 200 -\n"
     ]
    },
    {
     "name": "stdout",
     "output_type": "stream",
     "text": [
      "Sending handshake...\n",
      "Packet sent to 127.0.0.1:9996\n",
      "Sending update...\n",
      "Packet sent to 127.0.0.1:9996\n",
      "Received buffer length: 328\n"
     ]
    },
    {
     "name": "stderr",
     "output_type": "stream",
     "text": [
      "127.0.0.1 - - [04/Nov/2024 11:57:32] \"GET /telemetry HTTP/1.1\" 200 -\n"
     ]
    },
    {
     "name": "stdout",
     "output_type": "stream",
     "text": [
      "Sending handshake...\n",
      "Packet sent to 127.0.0.1:9996\n",
      "Sending update...\n",
      "Packet sent to 127.0.0.1:9996\n",
      "Received buffer length: 328\n"
     ]
    },
    {
     "name": "stderr",
     "output_type": "stream",
     "text": [
      "127.0.0.1 - - [04/Nov/2024 11:57:37] \"GET /telemetry HTTP/1.1\" 200 -\n"
     ]
    },
    {
     "name": "stdout",
     "output_type": "stream",
     "text": [
      "Sending handshake...\n",
      "Packet sent to 127.0.0.1:9996\n",
      "Sending update...\n",
      "Packet sent to 127.0.0.1:9996\n",
      "Received buffer length: 328\n"
     ]
    },
    {
     "name": "stderr",
     "output_type": "stream",
     "text": [
      "127.0.0.1 - - [04/Nov/2024 11:57:42] \"GET /telemetry HTTP/1.1\" 200 -\n"
     ]
    },
    {
     "name": "stdout",
     "output_type": "stream",
     "text": [
      "Sending handshake...\n",
      "Packet sent to 127.0.0.1:9996\n",
      "Sending update...\n",
      "Packet sent to 127.0.0.1:9996\n",
      "Received buffer length: 328\n"
     ]
    },
    {
     "name": "stderr",
     "output_type": "stream",
     "text": [
      "127.0.0.1 - - [04/Nov/2024 11:57:47] \"GET /telemetry HTTP/1.1\" 200 -\n"
     ]
    },
    {
     "name": "stdout",
     "output_type": "stream",
     "text": [
      "Sending handshake...\n",
      "Packet sent to 127.0.0.1:9996\n",
      "Sending update...\n",
      "Packet sent to 127.0.0.1:9996\n",
      "Received buffer length: 328\n"
     ]
    },
    {
     "name": "stderr",
     "output_type": "stream",
     "text": [
      "127.0.0.1 - - [04/Nov/2024 11:57:52] \"GET /telemetry HTTP/1.1\" 200 -\n"
     ]
    },
    {
     "name": "stdout",
     "output_type": "stream",
     "text": [
      "Sending handshake...\n",
      "Packet sent to 127.0.0.1:9996\n",
      "Sending update...\n",
      "Packet sent to 127.0.0.1:9996\n",
      "Received buffer length: 328\n"
     ]
    },
    {
     "name": "stderr",
     "output_type": "stream",
     "text": [
      "127.0.0.1 - - [04/Nov/2024 11:57:57] \"GET /telemetry HTTP/1.1\" 200 -\n"
     ]
    },
    {
     "name": "stdout",
     "output_type": "stream",
     "text": [
      "Sending handshake...\n",
      "Packet sent to 127.0.0.1:9996\n",
      "Sending update...\n",
      "Packet sent to 127.0.0.1:9996\n",
      "Received buffer length: 328\n"
     ]
    },
    {
     "name": "stderr",
     "output_type": "stream",
     "text": [
      "127.0.0.1 - - [04/Nov/2024 11:58:02] \"GET /telemetry HTTP/1.1\" 200 -\n"
     ]
    },
    {
     "name": "stdout",
     "output_type": "stream",
     "text": [
      "Sending handshake...\n",
      "Packet sent to 127.0.0.1:9996\n",
      "Sending update...\n",
      "Packet sent to 127.0.0.1:9996\n",
      "Received buffer length: 328\n"
     ]
    },
    {
     "name": "stderr",
     "output_type": "stream",
     "text": [
      "127.0.0.1 - - [04/Nov/2024 11:58:07] \"GET /telemetry HTTP/1.1\" 200 -\n"
     ]
    },
    {
     "name": "stdout",
     "output_type": "stream",
     "text": [
      "Sending handshake...\n",
      "Packet sent to 127.0.0.1:9996\n",
      "Sending update...\n",
      "Packet sent to 127.0.0.1:9996\n",
      "Received buffer length: 328\n"
     ]
    },
    {
     "name": "stderr",
     "output_type": "stream",
     "text": [
      "127.0.0.1 - - [04/Nov/2024 11:58:12] \"GET /telemetry HTTP/1.1\" 200 -\n"
     ]
    },
    {
     "name": "stdout",
     "output_type": "stream",
     "text": [
      "Sending handshake...\n",
      "Packet sent to 127.0.0.1:9996\n",
      "Sending update...\n",
      "Packet sent to 127.0.0.1:9996\n",
      "Received buffer length: 328\n"
     ]
    },
    {
     "name": "stderr",
     "output_type": "stream",
     "text": [
      "127.0.0.1 - - [04/Nov/2024 11:58:17] \"GET /telemetry HTTP/1.1\" 200 -\n"
     ]
    },
    {
     "name": "stdout",
     "output_type": "stream",
     "text": [
      "Sending handshake...\n",
      "Packet sent to 127.0.0.1:9996\n",
      "Sending update...\n",
      "Packet sent to 127.0.0.1:9996\n",
      "Received buffer length: 328\n"
     ]
    },
    {
     "name": "stderr",
     "output_type": "stream",
     "text": [
      "127.0.0.1 - - [04/Nov/2024 11:58:22] \"GET /telemetry HTTP/1.1\" 200 -\n"
     ]
    },
    {
     "name": "stdout",
     "output_type": "stream",
     "text": [
      "Sending handshake...\n",
      "Packet sent to 127.0.0.1:9996\n",
      "Sending update...\n",
      "Packet sent to 127.0.0.1:9996\n",
      "Received buffer length: 328\n"
     ]
    },
    {
     "name": "stderr",
     "output_type": "stream",
     "text": [
      "127.0.0.1 - - [04/Nov/2024 11:58:27] \"GET /telemetry HTTP/1.1\" 200 -\n"
     ]
    },
    {
     "name": "stdout",
     "output_type": "stream",
     "text": [
      "Sending handshake...\n",
      "Packet sent to 127.0.0.1:9996\n",
      "Sending update...\n",
      "Packet sent to 127.0.0.1:9996\n",
      "Received buffer length: 328\n"
     ]
    },
    {
     "name": "stderr",
     "output_type": "stream",
     "text": [
      "127.0.0.1 - - [04/Nov/2024 11:58:32] \"GET /telemetry HTTP/1.1\" 200 -\n"
     ]
    },
    {
     "name": "stdout",
     "output_type": "stream",
     "text": [
      "Sending handshake...\n",
      "Packet sent to 127.0.0.1:9996\n",
      "Sending update...\n",
      "Packet sent to 127.0.0.1:9996\n",
      "Received buffer length: 328\n"
     ]
    },
    {
     "name": "stderr",
     "output_type": "stream",
     "text": [
      "127.0.0.1 - - [04/Nov/2024 11:58:37] \"GET /telemetry HTTP/1.1\" 200 -\n"
     ]
    },
    {
     "name": "stdout",
     "output_type": "stream",
     "text": [
      "Sending handshake...\n",
      "Packet sent to 127.0.0.1:9996\n",
      "Sending update...\n",
      "Packet sent to 127.0.0.1:9996\n",
      "Received buffer length: 328\n",
      "Sending handshake...\n",
      "Packet sent to 127.0.0.1:9996\n",
      "Sending update...\n",
      "Packet sent to 127.0.0.1:9996\n",
      "Received buffer length: 328\n",
      "Sending handshake...\n",
      "Packet sent to 127.0.0.1:9996\n",
      "Sending update...\n",
      "Packet sent to 127.0.0.1:9996\n",
      "Received buffer length: 328\n",
      "Sending handshake...\n",
      "Packet sent to 127.0.0.1:9996\n",
      "Sending update...\n",
      "Packet sent to 127.0.0.1:9996\n",
      "Received buffer length: 328\n",
      "Sending handshake...\n",
      "Packet sent to 127.0.0.1:9996\n",
      "Sending update...\n",
      "Packet sent to 127.0.0.1:9996\n",
      "Received buffer length: 328\n",
      "Sending handshake...\n",
      "Packet sent to 127.0.0.1:9996\n",
      "Sending update...\n",
      "Packet sent to 127.0.0.1:9996\n",
      "Received buffer length: 328\n"
     ]
    },
    {
     "name": "stderr",
     "output_type": "stream",
     "text": [
      "127.0.0.1 - - [04/Nov/2024 11:59:10] \"GET /telemetry HTTP/1.1\" 200 -\n"
     ]
    },
    {
     "name": "stdout",
     "output_type": "stream",
     "text": [
      "Sending handshake...\n",
      "Packet sent to 127.0.0.1:9996\n",
      "Sending update...\n",
      "Packet sent to 127.0.0.1:9996\n",
      "Received buffer length: 328\n"
     ]
    },
    {
     "name": "stderr",
     "output_type": "stream",
     "text": [
      "127.0.0.1 - - [04/Nov/2024 11:59:15] \"GET /telemetry HTTP/1.1\" 200 -\n"
     ]
    },
    {
     "name": "stdout",
     "output_type": "stream",
     "text": [
      "Sending handshake...\n",
      "Packet sent to 127.0.0.1:9996\n",
      "Sending update...\n",
      "Packet sent to 127.0.0.1:9996\n",
      "Received buffer length: 328\n"
     ]
    },
    {
     "name": "stderr",
     "output_type": "stream",
     "text": [
      "127.0.0.1 - - [04/Nov/2024 11:59:20] \"GET /telemetry HTTP/1.1\" 200 -\n"
     ]
    },
    {
     "name": "stdout",
     "output_type": "stream",
     "text": [
      "Sending handshake...\n",
      "Packet sent to 127.0.0.1:9996\n",
      "Sending update...\n",
      "Packet sent to 127.0.0.1:9996\n",
      "Received buffer length: 328\n"
     ]
    },
    {
     "name": "stderr",
     "output_type": "stream",
     "text": [
      "127.0.0.1 - - [04/Nov/2024 11:59:25] \"GET /telemetry HTTP/1.1\" 200 -\n"
     ]
    },
    {
     "name": "stdout",
     "output_type": "stream",
     "text": [
      "Sending handshake...\n",
      "Packet sent to 127.0.0.1:9996\n",
      "Sending update...\n",
      "Packet sent to 127.0.0.1:9996\n",
      "Received buffer length: 328\n"
     ]
    },
    {
     "name": "stderr",
     "output_type": "stream",
     "text": [
      "127.0.0.1 - - [04/Nov/2024 11:59:30] \"GET /telemetry HTTP/1.1\" 200 -\n"
     ]
    },
    {
     "name": "stdout",
     "output_type": "stream",
     "text": [
      "Sending handshake...\n",
      "Packet sent to 127.0.0.1:9996\n",
      "Sending update...\n",
      "Packet sent to 127.0.0.1:9996\n",
      "Received buffer length: 328\n"
     ]
    },
    {
     "name": "stderr",
     "output_type": "stream",
     "text": [
      "127.0.0.1 - - [04/Nov/2024 11:59:35] \"GET /telemetry HTTP/1.1\" 200 -\n"
     ]
    },
    {
     "name": "stdout",
     "output_type": "stream",
     "text": [
      "Sending handshake...\n",
      "Packet sent to 127.0.0.1:9996\n",
      "Sending update...\n",
      "Packet sent to 127.0.0.1:9996\n",
      "Received buffer length: 328\n"
     ]
    },
    {
     "name": "stderr",
     "output_type": "stream",
     "text": [
      "127.0.0.1 - - [04/Nov/2024 11:59:40] \"GET /telemetry HTTP/1.1\" 200 -\n"
     ]
    },
    {
     "name": "stdout",
     "output_type": "stream",
     "text": [
      "Sending handshake...\n",
      "Packet sent to 127.0.0.1:9996\n",
      "Sending update...\n",
      "Packet sent to 127.0.0.1:9996\n",
      "Received buffer length: 328\n"
     ]
    },
    {
     "name": "stderr",
     "output_type": "stream",
     "text": [
      "127.0.0.1 - - [04/Nov/2024 11:59:46] \"GET /telemetry HTTP/1.1\" 200 -\n"
     ]
    },
    {
     "name": "stdout",
     "output_type": "stream",
     "text": [
      "Sending handshake...\n",
      "Packet sent to 127.0.0.1:9996\n",
      "Sending update...\n",
      "Packet sent to 127.0.0.1:9996\n",
      "Received buffer length: 328\n"
     ]
    },
    {
     "name": "stderr",
     "output_type": "stream",
     "text": [
      "127.0.0.1 - - [04/Nov/2024 11:59:51] \"GET /telemetry HTTP/1.1\" 200 -\n"
     ]
    },
    {
     "name": "stdout",
     "output_type": "stream",
     "text": [
      "Sending handshake...\n",
      "Packet sent to 127.0.0.1:9996\n",
      "Sending update...\n",
      "Packet sent to 127.0.0.1:9996\n",
      "Received buffer length: 328\n"
     ]
    },
    {
     "name": "stderr",
     "output_type": "stream",
     "text": [
      "127.0.0.1 - - [04/Nov/2024 11:59:56] \"GET /telemetry HTTP/1.1\" 200 -\n"
     ]
    },
    {
     "name": "stdout",
     "output_type": "stream",
     "text": [
      "Sending handshake...\n",
      "Packet sent to 127.0.0.1:9996\n",
      "Sending update...\n",
      "Packet sent to 127.0.0.1:9996\n",
      "Received buffer length: 328\n"
     ]
    },
    {
     "name": "stderr",
     "output_type": "stream",
     "text": [
      "127.0.0.1 - - [04/Nov/2024 12:00:01] \"GET /telemetry HTTP/1.1\" 200 -\n"
     ]
    },
    {
     "name": "stdout",
     "output_type": "stream",
     "text": [
      "Sending handshake...\n",
      "Packet sent to 127.0.0.1:9996\n",
      "Sending update...\n",
      "Packet sent to 127.0.0.1:9996\n",
      "Received buffer length: 328\n"
     ]
    },
    {
     "name": "stderr",
     "output_type": "stream",
     "text": [
      "127.0.0.1 - - [04/Nov/2024 12:00:06] \"GET /telemetry HTTP/1.1\" 200 -\n"
     ]
    },
    {
     "name": "stdout",
     "output_type": "stream",
     "text": [
      "Sending handshake...\n",
      "Packet sent to 127.0.0.1:9996\n",
      "Sending update...\n",
      "Packet sent to 127.0.0.1:9996\n",
      "Received buffer length: 328\n"
     ]
    },
    {
     "name": "stderr",
     "output_type": "stream",
     "text": [
      "127.0.0.1 - - [04/Nov/2024 12:00:11] \"GET /telemetry HTTP/1.1\" 200 -\n"
     ]
    },
    {
     "name": "stdout",
     "output_type": "stream",
     "text": [
      "Sending handshake...\n",
      "Packet sent to 127.0.0.1:9996\n",
      "Sending update...\n",
      "Packet sent to 127.0.0.1:9996\n",
      "Received buffer length: 328\n"
     ]
    },
    {
     "name": "stderr",
     "output_type": "stream",
     "text": [
      "127.0.0.1 - - [04/Nov/2024 12:00:16] \"GET /telemetry HTTP/1.1\" 200 -\n"
     ]
    },
    {
     "name": "stdout",
     "output_type": "stream",
     "text": [
      "Sending handshake...\n",
      "Packet sent to 127.0.0.1:9996\n",
      "Sending update...\n",
      "Packet sent to 127.0.0.1:9996\n",
      "Received buffer length: 328\n"
     ]
    },
    {
     "name": "stderr",
     "output_type": "stream",
     "text": [
      "127.0.0.1 - - [04/Nov/2024 12:00:21] \"GET /telemetry HTTP/1.1\" 200 -\n"
     ]
    },
    {
     "name": "stdout",
     "output_type": "stream",
     "text": [
      "Sending handshake...\n",
      "Packet sent to 127.0.0.1:9996\n",
      "Sending update...\n",
      "Packet sent to 127.0.0.1:9996\n",
      "Received buffer length: 328\n"
     ]
    },
    {
     "name": "stderr",
     "output_type": "stream",
     "text": [
      "127.0.0.1 - - [04/Nov/2024 12:00:26] \"GET /telemetry HTTP/1.1\" 200 -\n"
     ]
    },
    {
     "name": "stdout",
     "output_type": "stream",
     "text": [
      "Sending handshake...\n",
      "Packet sent to 127.0.0.1:9996\n",
      "Sending update...\n",
      "Packet sent to 127.0.0.1:9996\n",
      "Received buffer length: 328\n"
     ]
    },
    {
     "name": "stderr",
     "output_type": "stream",
     "text": [
      "127.0.0.1 - - [04/Nov/2024 12:00:31] \"GET /telemetry HTTP/1.1\" 200 -\n"
     ]
    },
    {
     "name": "stdout",
     "output_type": "stream",
     "text": [
      "Sending handshake...\n",
      "Packet sent to 127.0.0.1:9996\n",
      "Sending update...\n",
      "Packet sent to 127.0.0.1:9996\n",
      "Received buffer length: 328\n"
     ]
    },
    {
     "name": "stderr",
     "output_type": "stream",
     "text": [
      "127.0.0.1 - - [04/Nov/2024 12:00:36] \"GET /telemetry HTTP/1.1\" 200 -\n"
     ]
    },
    {
     "name": "stdout",
     "output_type": "stream",
     "text": [
      "Sending handshake...\n",
      "Packet sent to 127.0.0.1:9996\n",
      "Sending update...\n",
      "Packet sent to 127.0.0.1:9996\n",
      "Received buffer length: 328\n"
     ]
    },
    {
     "name": "stderr",
     "output_type": "stream",
     "text": [
      "127.0.0.1 - - [04/Nov/2024 12:00:41] \"GET /telemetry HTTP/1.1\" 200 -\n"
     ]
    },
    {
     "name": "stdout",
     "output_type": "stream",
     "text": [
      "Sending handshake...\n",
      "Packet sent to 127.0.0.1:9996\n",
      "Sending update...\n",
      "Packet sent to 127.0.0.1:9996\n",
      "Received buffer length: 328\n"
     ]
    },
    {
     "name": "stderr",
     "output_type": "stream",
     "text": [
      "127.0.0.1 - - [04/Nov/2024 12:00:46] \"GET /telemetry HTTP/1.1\" 200 -\n"
     ]
    },
    {
     "name": "stdout",
     "output_type": "stream",
     "text": [
      "Sending handshake...\n",
      "Packet sent to 127.0.0.1:9996\n",
      "Sending update...\n",
      "Packet sent to 127.0.0.1:9996\n",
      "Received buffer length: 328\n"
     ]
    },
    {
     "name": "stderr",
     "output_type": "stream",
     "text": [
      "127.0.0.1 - - [04/Nov/2024 12:00:51] \"GET /telemetry HTTP/1.1\" 200 -\n"
     ]
    },
    {
     "name": "stdout",
     "output_type": "stream",
     "text": [
      "Sending handshake...\n",
      "Packet sent to 127.0.0.1:9996\n",
      "Sending update...\n",
      "Packet sent to 127.0.0.1:9996\n",
      "Received buffer length: 328\n"
     ]
    },
    {
     "name": "stderr",
     "output_type": "stream",
     "text": [
      "127.0.0.1 - - [04/Nov/2024 12:00:56] \"GET /telemetry HTTP/1.1\" 200 -\n"
     ]
    },
    {
     "name": "stdout",
     "output_type": "stream",
     "text": [
      "Sending handshake...\n",
      "Packet sent to 127.0.0.1:9996\n",
      "Sending update...\n",
      "Packet sent to 127.0.0.1:9996\n",
      "Received buffer length: 328\n"
     ]
    },
    {
     "name": "stderr",
     "output_type": "stream",
     "text": [
      "127.0.0.1 - - [04/Nov/2024 12:01:01] \"GET /telemetry HTTP/1.1\" 200 -\n"
     ]
    },
    {
     "name": "stdout",
     "output_type": "stream",
     "text": [
      "Sending handshake...\n",
      "Packet sent to 127.0.0.1:9996\n",
      "Sending update...\n",
      "Packet sent to 127.0.0.1:9996\n",
      "Received buffer length: 328\n"
     ]
    },
    {
     "name": "stderr",
     "output_type": "stream",
     "text": [
      "127.0.0.1 - - [04/Nov/2024 12:01:06] \"GET /telemetry HTTP/1.1\" 200 -\n"
     ]
    },
    {
     "name": "stdout",
     "output_type": "stream",
     "text": [
      "Sending handshake...\n",
      "Packet sent to 127.0.0.1:9996\n",
      "Sending update...\n",
      "Packet sent to 127.0.0.1:9996\n",
      "Received buffer length: 328\n",
      "Sending handshake...\n",
      "Packet sent to 127.0.0.1:9996\n",
      "Sending update...\n",
      "Packet sent to 127.0.0.1:9996\n",
      "Received buffer length: 328\n",
      "Sending handshake...\n",
      "Packet sent to 127.0.0.1:9996\n",
      "Sending update...\n",
      "Packet sent to 127.0.0.1:9996\n",
      "Received buffer length: 328\n",
      "Sending handshake...\n",
      "Packet sent to 127.0.0.1:9996\n",
      "Sending update...\n",
      "Packet sent to 127.0.0.1:9996\n",
      "Received buffer length: 328\n",
      "Sending handshake...\n",
      "Packet sent to 127.0.0.1:9996\n",
      "Sending update...\n",
      "Packet sent to 127.0.0.1:9996\n",
      "Received buffer length: 328\n",
      "Sending handshake...\n",
      "Packet sent to 127.0.0.1:9996\n",
      "Sending update...\n",
      "Packet sent to 127.0.0.1:9996\n",
      "Received buffer length: 328\n",
      "Sending handshake...\n",
      "Packet sent to 127.0.0.1:9996\n",
      "Sending update...\n",
      "Packet sent to 127.0.0.1:9996\n",
      "Received buffer length: 328\n",
      "Sending handshake...\n",
      "Packet sent to 127.0.0.1:9996\n",
      "Sending update...\n",
      "Packet sent to 127.0.0.1:9996\n",
      "Received buffer length: 328\n",
      "Sending handshake...\n",
      "Packet sent to 127.0.0.1:9996\n",
      "Sending update...\n",
      "Packet sent to 127.0.0.1:9996\n",
      "Received buffer length: 328\n",
      "Sending handshake...\n",
      "Packet sent to 127.0.0.1:9996\n",
      "Sending update...\n",
      "Packet sent to 127.0.0.1:9996\n",
      "Received buffer length: 328\n",
      "Sending handshake...\n",
      "Packet sent to 127.0.0.1:9996\n",
      "Sending update...\n",
      "Packet sent to 127.0.0.1:9996\n",
      "Received buffer length: 328\n"
     ]
    },
    {
     "name": "stderr",
     "output_type": "stream",
     "text": [
      "127.0.0.1 - - [04/Nov/2024 12:01:57] \"GET /telemetry HTTP/1.1\" 200 -\n"
     ]
    },
    {
     "name": "stdout",
     "output_type": "stream",
     "text": [
      "Sending handshake...\n",
      "Packet sent to 127.0.0.1:9996\n",
      "Sending update...\n",
      "Packet sent to 127.0.0.1:9996\n",
      "Received buffer length: 328\n",
      "Sending handshake...\n",
      "Packet sent to 127.0.0.1:9996\n",
      "Sending update...\n",
      "Packet sent to 127.0.0.1:9996\n",
      "Received buffer length: 328\n",
      "Sending handshake...\n",
      "Packet sent to 127.0.0.1:9996\n",
      "Sending update...\n",
      "Packet sent to 127.0.0.1:9996\n",
      "Received buffer length: 328\n",
      "Sending handshake...\n",
      "Packet sent to 127.0.0.1:9996\n",
      "Sending update...\n",
      "Packet sent to 127.0.0.1:9996\n",
      "Received buffer length: 328\n",
      "Sending handshake...\n",
      "Packet sent to 127.0.0.1:9996\n",
      "Sending update...\n",
      "Packet sent to 127.0.0.1:9996\n",
      "Received buffer length: 328\n"
     ]
    },
    {
     "name": "stderr",
     "output_type": "stream",
     "text": [
      "127.0.0.1 - - [04/Nov/2024 12:02:23] \"GET /telemetry HTTP/1.1\" 200 -\n"
     ]
    },
    {
     "name": "stdout",
     "output_type": "stream",
     "text": [
      "Sending handshake...\n",
      "Packet sent to 127.0.0.1:9996\n",
      "Sending update...\n",
      "Packet sent to 127.0.0.1:9996\n",
      "Received buffer length: 328\n"
     ]
    },
    {
     "name": "stderr",
     "output_type": "stream",
     "text": [
      "127.0.0.1 - - [04/Nov/2024 12:02:31] \"GET /telemetry HTTP/1.1\" 200 -\n"
     ]
    },
    {
     "name": "stdout",
     "output_type": "stream",
     "text": [
      "Sending handshake...\n",
      "Packet sent to 127.0.0.1:9996\n",
      "Sending update...\n",
      "Packet sent to 127.0.0.1:9996\n",
      "Received buffer length: 328\n",
      "Sending handshake...\n",
      "Packet sent to 127.0.0.1:9996\n",
      "Sending update...\n",
      "Packet sent to 127.0.0.1:9996\n",
      "Received buffer length: 328\n"
     ]
    },
    {
     "name": "stderr",
     "output_type": "stream",
     "text": [
      "127.0.0.1 - - [04/Nov/2024 12:02:36] \"GET /telemetry HTTP/1.1\" 200 -\n",
      "127.0.0.1 - - [04/Nov/2024 12:02:41] \"GET /telemetry HTTP/1.1\" 200 -\n"
     ]
    },
    {
     "name": "stdout",
     "output_type": "stream",
     "text": [
      "Sending handshake...\n",
      "Packet sent to 127.0.0.1:9996\n",
      "Sending update...\n",
      "Packet sent to 127.0.0.1:9996\n",
      "Received buffer length: 328\n",
      "Sending handshake...\n",
      "Packet sent to 127.0.0.1:9996\n",
      "Sending update...\n",
      "Packet sent to 127.0.0.1:9996\n",
      "Received buffer length: 328\n"
     ]
    },
    {
     "name": "stderr",
     "output_type": "stream",
     "text": [
      "127.0.0.1 - - [04/Nov/2024 12:02:47] \"GET /telemetry HTTP/1.1\" 200 -\n",
      "127.0.0.1 - - [04/Nov/2024 12:02:51] \"GET /telemetry HTTP/1.1\" 200 -\n"
     ]
    },
    {
     "name": "stdout",
     "output_type": "stream",
     "text": [
      "Sending handshake...\n",
      "Packet sent to 127.0.0.1:9996\n",
      "Sending update...\n",
      "Packet sent to 127.0.0.1:9996\n",
      "Received buffer length: 328\n",
      "Sending handshake...\n",
      "Packet sent to 127.0.0.1:9996\n",
      "Sending update...\n",
      "Packet sent to 127.0.0.1:9996\n",
      "Received buffer length: 328\n"
     ]
    },
    {
     "name": "stderr",
     "output_type": "stream",
     "text": [
      "127.0.0.1 - - [04/Nov/2024 12:02:56] \"GET /telemetry HTTP/1.1\" 200 -\n",
      "127.0.0.1 - - [04/Nov/2024 12:03:01] \"GET /telemetry HTTP/1.1\" 200 -\n"
     ]
    },
    {
     "name": "stdout",
     "output_type": "stream",
     "text": [
      "Sending handshake...\n",
      "Packet sent to 127.0.0.1:9996\n",
      "Sending update...\n",
      "Packet sent to 127.0.0.1:9996\n",
      "Received buffer length: 328\n",
      "Sending handshake...\n",
      "Packet sent to 127.0.0.1:9996\n",
      "Sending update...\n",
      "Packet sent to 127.0.0.1:9996\n",
      "Received buffer length: 328\n"
     ]
    },
    {
     "name": "stderr",
     "output_type": "stream",
     "text": [
      "127.0.0.1 - - [04/Nov/2024 12:03:06] \"GET /telemetry HTTP/1.1\" 200 -\n",
      "127.0.0.1 - - [04/Nov/2024 12:03:11] \"GET /telemetry HTTP/1.1\" 200 -\n"
     ]
    },
    {
     "name": "stdout",
     "output_type": "stream",
     "text": [
      "Sending handshake...\n",
      "Packet sent to 127.0.0.1:9996\n",
      "Sending update...\n",
      "Packet sent to 127.0.0.1:9996\n",
      "Received buffer length: 328\n",
      "Sending handshake...\n",
      "Packet sent to 127.0.0.1:9996\n",
      "Sending update...\n",
      "Packet sent to 127.0.0.1:9996\n",
      "Received buffer length: 328\n"
     ]
    },
    {
     "name": "stderr",
     "output_type": "stream",
     "text": [
      "127.0.0.1 - - [04/Nov/2024 12:03:16] \"GET /telemetry HTTP/1.1\" 200 -\n",
      "127.0.0.1 - - [04/Nov/2024 12:03:21] \"GET /telemetry HTTP/1.1\" 200 -\n"
     ]
    },
    {
     "name": "stdout",
     "output_type": "stream",
     "text": [
      "Sending handshake...\n",
      "Packet sent to 127.0.0.1:9996\n",
      "Sending update...\n",
      "Packet sent to 127.0.0.1:9996\n",
      "Received buffer length: 328\n",
      "Sending handshake...\n",
      "Packet sent to 127.0.0.1:9996\n",
      "Sending update...\n",
      "Packet sent to 127.0.0.1:9996\n",
      "Received buffer length: 328\n"
     ]
    },
    {
     "name": "stderr",
     "output_type": "stream",
     "text": [
      "127.0.0.1 - - [04/Nov/2024 12:03:26] \"GET /telemetry HTTP/1.1\" 200 -\n",
      "127.0.0.1 - - [04/Nov/2024 12:03:31] \"GET /telemetry HTTP/1.1\" 200 -\n"
     ]
    },
    {
     "name": "stdout",
     "output_type": "stream",
     "text": [
      "Sending handshake...\n",
      "Packet sent to 127.0.0.1:9996\n",
      "Sending update...\n",
      "Packet sent to 127.0.0.1:9996\n",
      "Received buffer length: 328\n",
      "Sending handshake...\n",
      "Packet sent to 127.0.0.1:9996\n",
      "Sending update...\n",
      "Packet sent to 127.0.0.1:9996\n",
      "Received buffer length: 328\n"
     ]
    },
    {
     "name": "stderr",
     "output_type": "stream",
     "text": [
      "127.0.0.1 - - [04/Nov/2024 12:03:36] \"GET /telemetry HTTP/1.1\" 200 -\n",
      "127.0.0.1 - - [04/Nov/2024 12:03:41] \"GET /telemetry HTTP/1.1\" 200 -\n"
     ]
    },
    {
     "name": "stdout",
     "output_type": "stream",
     "text": [
      "Sending handshake...\n",
      "Packet sent to 127.0.0.1:9996\n",
      "Sending update...\n",
      "Packet sent to 127.0.0.1:9996\n",
      "Received buffer length: 328\n",
      "Sending handshake...\n",
      "Packet sent to 127.0.0.1:9996\n",
      "Sending update...\n",
      "Packet sent to 127.0.0.1:9996\n",
      "Received buffer length: 328\n"
     ]
    },
    {
     "name": "stderr",
     "output_type": "stream",
     "text": [
      "127.0.0.1 - - [04/Nov/2024 12:03:46] \"GET /telemetry HTTP/1.1\" 200 -\n",
      "127.0.0.1 - - [04/Nov/2024 12:03:51] \"GET /telemetry HTTP/1.1\" 200 -\n"
     ]
    },
    {
     "name": "stdout",
     "output_type": "stream",
     "text": [
      "Sending handshake...\n",
      "Packet sent to 127.0.0.1:9996\n",
      "Sending update...\n",
      "Packet sent to 127.0.0.1:9996\n",
      "Received buffer length: 328\n",
      "Sending handshake...\n",
      "Packet sent to 127.0.0.1:9996\n",
      "Sending update...\n",
      "Packet sent to 127.0.0.1:9996\n",
      "Received buffer length: 328\n"
     ]
    },
    {
     "name": "stderr",
     "output_type": "stream",
     "text": [
      "127.0.0.1 - - [04/Nov/2024 12:03:56] \"GET /telemetry HTTP/1.1\" 200 -\n",
      "127.0.0.1 - - [04/Nov/2024 12:04:01] \"GET /telemetry HTTP/1.1\" 200 -\n"
     ]
    },
    {
     "name": "stdout",
     "output_type": "stream",
     "text": [
      "Sending handshake...\n",
      "Packet sent to 127.0.0.1:9996\n",
      "Sending update...\n",
      "Packet sent to 127.0.0.1:9996\n",
      "Received buffer length: 328\n",
      "Sending handshake...\n",
      "Packet sent to 127.0.0.1:9996\n",
      "Sending update...\n",
      "Packet sent to 127.0.0.1:9996\n",
      "Received buffer length: 328\n"
     ]
    },
    {
     "name": "stderr",
     "output_type": "stream",
     "text": [
      "127.0.0.1 - - [04/Nov/2024 12:04:06] \"GET /telemetry HTTP/1.1\" 200 -\n",
      "127.0.0.1 - - [04/Nov/2024 12:04:11] \"GET /telemetry HTTP/1.1\" 200 -\n"
     ]
    },
    {
     "name": "stdout",
     "output_type": "stream",
     "text": [
      "Sending handshake...\n",
      "Packet sent to 127.0.0.1:9996\n",
      "Sending update...\n",
      "Packet sent to 127.0.0.1:9996\n",
      "Received buffer length: 328\n",
      "Sending handshake...\n",
      "Packet sent to 127.0.0.1:9996\n",
      "Sending update...\n",
      "Packet sent to 127.0.0.1:9996\n",
      "Received buffer length: 328\n"
     ]
    },
    {
     "name": "stderr",
     "output_type": "stream",
     "text": [
      "127.0.0.1 - - [04/Nov/2024 12:04:16] \"GET /telemetry HTTP/1.1\" 200 -\n",
      "127.0.0.1 - - [04/Nov/2024 12:04:21] \"GET /telemetry HTTP/1.1\" 200 -\n"
     ]
    },
    {
     "name": "stdout",
     "output_type": "stream",
     "text": [
      "Sending handshake...\n",
      "Packet sent to 127.0.0.1:9996\n",
      "Sending update...\n",
      "Packet sent to 127.0.0.1:9996\n",
      "Received buffer length: 328\n",
      "Sending handshake...\n",
      "Packet sent to 127.0.0.1:9996\n",
      "Sending update...\n",
      "Packet sent to 127.0.0.1:9996\n",
      "Received buffer length: 328\n"
     ]
    },
    {
     "name": "stderr",
     "output_type": "stream",
     "text": [
      "127.0.0.1 - - [04/Nov/2024 12:04:27] \"GET /telemetry HTTP/1.1\" 200 -\n",
      "127.0.0.1 - - [04/Nov/2024 12:04:31] \"GET /telemetry HTTP/1.1\" 200 -\n"
     ]
    },
    {
     "name": "stdout",
     "output_type": "stream",
     "text": [
      "Sending handshake...\n",
      "Packet sent to 127.0.0.1:9996\n",
      "Sending update...\n",
      "Packet sent to 127.0.0.1:9996\n",
      "Received buffer length: 328\n",
      "Sending handshake...\n",
      "Packet sent to 127.0.0.1:9996\n",
      "Sending update...\n",
      "Packet sent to 127.0.0.1:9996\n",
      "Received buffer length: 328\n"
     ]
    },
    {
     "name": "stderr",
     "output_type": "stream",
     "text": [
      "127.0.0.1 - - [04/Nov/2024 12:04:36] \"GET /telemetry HTTP/1.1\" 200 -\n",
      "127.0.0.1 - - [04/Nov/2024 12:04:41] \"GET /telemetry HTTP/1.1\" 200 -\n"
     ]
    },
    {
     "name": "stdout",
     "output_type": "stream",
     "text": [
      "Sending handshake...\n",
      "Packet sent to 127.0.0.1:9996\n",
      "Sending update...\n",
      "Packet sent to 127.0.0.1:9996\n",
      "Received buffer length: 328\n",
      "Sending handshake...\n",
      "Packet sent to 127.0.0.1:9996\n",
      "Sending update...\n",
      "Packet sent to 127.0.0.1:9996\n",
      "Received buffer length: 328\n"
     ]
    },
    {
     "name": "stderr",
     "output_type": "stream",
     "text": [
      "127.0.0.1 - - [04/Nov/2024 12:04:51] \"GET /telemetry HTTP/1.1\" 200 -\n"
     ]
    },
    {
     "name": "stdout",
     "output_type": "stream",
     "text": [
      "Sending handshake...\n",
      "Packet sent to 127.0.0.1:9996\n",
      "Sending update...\n",
      "Packet sent to 127.0.0.1:9996\n",
      "Received buffer length: 328\n"
     ]
    },
    {
     "name": "stderr",
     "output_type": "stream",
     "text": [
      "127.0.0.1 - - [04/Nov/2024 12:04:56] \"GET /telemetry HTTP/1.1\" 200 -\n"
     ]
    },
    {
     "name": "stdout",
     "output_type": "stream",
     "text": [
      "Sending handshake...\n",
      "Packet sent to 127.0.0.1:9996\n",
      "Sending update...\n",
      "Packet sent to 127.0.0.1:9996\n",
      "Received buffer length: 328\n"
     ]
    },
    {
     "name": "stderr",
     "output_type": "stream",
     "text": [
      "127.0.0.1 - - [04/Nov/2024 12:05:01] \"GET /telemetry HTTP/1.1\" 200 -\n"
     ]
    },
    {
     "name": "stdout",
     "output_type": "stream",
     "text": [
      "Sending handshake...\n",
      "Packet sent to 127.0.0.1:9996\n",
      "Sending update...\n",
      "Packet sent to 127.0.0.1:9996\n",
      "Received buffer length: 328\n"
     ]
    },
    {
     "name": "stderr",
     "output_type": "stream",
     "text": [
      "127.0.0.1 - - [04/Nov/2024 12:05:06] \"GET /telemetry HTTP/1.1\" 200 -\n"
     ]
    },
    {
     "name": "stdout",
     "output_type": "stream",
     "text": [
      "Sending handshake...\n",
      "Packet sent to 127.0.0.1:9996\n",
      "Sending update...\n",
      "Packet sent to 127.0.0.1:9996\n",
      "Received buffer length: 328\n",
      "Sending handshake...\n",
      "Packet sent to 127.0.0.1:9996\n",
      "Sending update...\n",
      "Packet sent to 127.0.0.1:9996\n",
      "Received buffer length: 328\n",
      "Sending handshake...\n",
      "Packet sent to 127.0.0.1:9996\n",
      "Sending update...\n",
      "Packet sent to 127.0.0.1:9996\n",
      "Received buffer length: 328\n"
     ]
    },
    {
     "name": "stderr",
     "output_type": "stream",
     "text": [
      "127.0.0.1 - - [04/Nov/2024 12:05:20] \"GET /telemetry HTTP/1.1\" 200 -\n"
     ]
    },
    {
     "name": "stdout",
     "output_type": "stream",
     "text": [
      "Sending handshake...\n",
      "Packet sent to 127.0.0.1:9996\n",
      "Sending update...\n",
      "Packet sent to 127.0.0.1:9996\n",
      "Received buffer length: 328\n"
     ]
    },
    {
     "name": "stderr",
     "output_type": "stream",
     "text": [
      "127.0.0.1 - - [04/Nov/2024 12:05:24] \"GET /telemetry HTTP/1.1\" 200 -\n"
     ]
    },
    {
     "name": "stdout",
     "output_type": "stream",
     "text": [
      "Sending handshake...\n",
      "Packet sent to 127.0.0.1:9996\n",
      "Sending update...\n",
      "Packet sent to 127.0.0.1:9996\n",
      "Received buffer length: 328\n"
     ]
    },
    {
     "name": "stderr",
     "output_type": "stream",
     "text": [
      "127.0.0.1 - - [04/Nov/2024 12:05:30] \"GET /telemetry HTTP/1.1\" 200 -\n"
     ]
    },
    {
     "name": "stdout",
     "output_type": "stream",
     "text": [
      "Sending handshake...\n",
      "Packet sent to 127.0.0.1:9996\n",
      "Sending update...\n",
      "Packet sent to 127.0.0.1:9996\n",
      "Received buffer length: 328\n"
     ]
    },
    {
     "name": "stderr",
     "output_type": "stream",
     "text": [
      "127.0.0.1 - - [04/Nov/2024 12:05:34] \"GET /telemetry HTTP/1.1\" 200 -\n"
     ]
    },
    {
     "name": "stdout",
     "output_type": "stream",
     "text": [
      "Sending handshake...\n",
      "Packet sent to 127.0.0.1:9996\n",
      "Sending update...\n",
      "Packet sent to 127.0.0.1:9996\n",
      "Received buffer length: 328\n"
     ]
    },
    {
     "name": "stderr",
     "output_type": "stream",
     "text": [
      "127.0.0.1 - - [04/Nov/2024 12:05:40] \"GET /telemetry HTTP/1.1\" 200 -\n",
      "127.0.0.1 - - [04/Nov/2024 12:05:41] \"GET /telemetry HTTP/1.1\" 200 -\n"
     ]
    },
    {
     "name": "stdout",
     "output_type": "stream",
     "text": [
      "Sending handshake...\n",
      "Packet sent to 127.0.0.1:9996\n",
      "Sending update...\n",
      "Packet sent to 127.0.0.1:9996\n",
      "Received buffer length: 328\n"
     ]
    },
    {
     "name": "stderr",
     "output_type": "stream",
     "text": [
      "127.0.0.1 - - [04/Nov/2024 12:05:42] \"GET /telemetry HTTP/1.1\" 200 -\n",
      "127.0.0.1 - - [04/Nov/2024 12:05:43] \"GET /telemetry HTTP/1.1\" 200 -\n",
      "127.0.0.1 - - [04/Nov/2024 12:05:44] \"GET /telemetry HTTP/1.1\" 200 -\n",
      "127.0.0.1 - - [04/Nov/2024 12:05:45] \"GET /telemetry HTTP/1.1\" 200 -\n",
      "127.0.0.1 - - [04/Nov/2024 12:05:46] \"GET /telemetry HTTP/1.1\" 200 -\n"
     ]
    },
    {
     "name": "stdout",
     "output_type": "stream",
     "text": [
      "Sending handshake...\n",
      "Packet sent to 127.0.0.1:9996\n",
      "Sending update...\n",
      "Packet sent to 127.0.0.1:9996\n",
      "Received buffer length: 328\n"
     ]
    },
    {
     "name": "stderr",
     "output_type": "stream",
     "text": [
      "127.0.0.1 - - [04/Nov/2024 12:05:47] \"GET /telemetry HTTP/1.1\" 200 -\n",
      "127.0.0.1 - - [04/Nov/2024 12:05:48] \"GET /telemetry HTTP/1.1\" 200 -\n",
      "127.0.0.1 - - [04/Nov/2024 12:05:49] \"GET /telemetry HTTP/1.1\" 200 -\n",
      "127.0.0.1 - - [04/Nov/2024 12:05:50] \"GET /telemetry HTTP/1.1\" 200 -\n",
      "127.0.0.1 - - [04/Nov/2024 12:05:51] \"GET /telemetry HTTP/1.1\" 200 -\n"
     ]
    },
    {
     "name": "stdout",
     "output_type": "stream",
     "text": [
      "Sending handshake...\n",
      "Packet sent to 127.0.0.1:9996\n",
      "Sending update...\n",
      "Packet sent to 127.0.0.1:9996\n",
      "Received buffer length: 328\n"
     ]
    },
    {
     "name": "stderr",
     "output_type": "stream",
     "text": [
      "127.0.0.1 - - [04/Nov/2024 12:05:52] \"GET /telemetry HTTP/1.1\" 200 -\n",
      "127.0.0.1 - - [04/Nov/2024 12:05:53] \"GET /telemetry HTTP/1.1\" 200 -\n",
      "127.0.0.1 - - [04/Nov/2024 12:05:54] \"GET /telemetry HTTP/1.1\" 200 -\n",
      "127.0.0.1 - - [04/Nov/2024 12:05:55] \"GET /telemetry HTTP/1.1\" 200 -\n",
      "127.0.0.1 - - [04/Nov/2024 12:05:56] \"GET /telemetry HTTP/1.1\" 200 -\n"
     ]
    },
    {
     "name": "stdout",
     "output_type": "stream",
     "text": [
      "Sending handshake...\n",
      "Packet sent to 127.0.0.1:9996\n",
      "Sending update...\n",
      "Packet sent to 127.0.0.1:9996\n",
      "Received buffer length: 328\n"
     ]
    },
    {
     "name": "stderr",
     "output_type": "stream",
     "text": [
      "127.0.0.1 - - [04/Nov/2024 12:05:57] \"GET /telemetry HTTP/1.1\" 200 -\n",
      "127.0.0.1 - - [04/Nov/2024 12:05:58] \"GET /telemetry HTTP/1.1\" 200 -\n",
      "127.0.0.1 - - [04/Nov/2024 12:05:59] \"GET /telemetry HTTP/1.1\" 200 -\n",
      "127.0.0.1 - - [04/Nov/2024 12:06:00] \"GET /telemetry HTTP/1.1\" 200 -\n",
      "127.0.0.1 - - [04/Nov/2024 12:06:01] \"GET /telemetry HTTP/1.1\" 200 -\n"
     ]
    },
    {
     "name": "stdout",
     "output_type": "stream",
     "text": [
      "Sending handshake...\n",
      "Packet sent to 127.0.0.1:9996\n",
      "Sending update...\n",
      "Packet sent to 127.0.0.1:9996\n",
      "Received buffer length: 328\n"
     ]
    },
    {
     "name": "stderr",
     "output_type": "stream",
     "text": [
      "127.0.0.1 - - [04/Nov/2024 12:06:02] \"GET /telemetry HTTP/1.1\" 200 -\n",
      "127.0.0.1 - - [04/Nov/2024 12:06:03] \"GET /telemetry HTTP/1.1\" 200 -\n",
      "127.0.0.1 - - [04/Nov/2024 12:06:04] \"GET /telemetry HTTP/1.1\" 200 -\n",
      "127.0.0.1 - - [04/Nov/2024 12:06:05] \"GET /telemetry HTTP/1.1\" 200 -\n",
      "127.0.0.1 - - [04/Nov/2024 12:06:06] \"GET /telemetry HTTP/1.1\" 200 -\n"
     ]
    },
    {
     "name": "stdout",
     "output_type": "stream",
     "text": [
      "Sending handshake...\n",
      "Packet sent to 127.0.0.1:9996\n",
      "Sending update...\n",
      "Packet sent to 127.0.0.1:9996\n",
      "Received buffer length: 328\n"
     ]
    },
    {
     "name": "stderr",
     "output_type": "stream",
     "text": [
      "127.0.0.1 - - [04/Nov/2024 12:06:07] \"GET /telemetry HTTP/1.1\" 200 -\n",
      "127.0.0.1 - - [04/Nov/2024 12:06:08] \"GET /telemetry HTTP/1.1\" 200 -\n",
      "127.0.0.1 - - [04/Nov/2024 12:06:09] \"GET /telemetry HTTP/1.1\" 200 -\n",
      "127.0.0.1 - - [04/Nov/2024 12:06:10] \"GET /telemetry HTTP/1.1\" 200 -\n",
      "127.0.0.1 - - [04/Nov/2024 12:06:11] \"GET /telemetry HTTP/1.1\" 200 -\n"
     ]
    },
    {
     "name": "stdout",
     "output_type": "stream",
     "text": [
      "Sending handshake...\n",
      "Packet sent to 127.0.0.1:9996\n",
      "Sending update...\n",
      "Packet sent to 127.0.0.1:9996\n",
      "Received buffer length: 328\n"
     ]
    },
    {
     "name": "stderr",
     "output_type": "stream",
     "text": [
      "127.0.0.1 - - [04/Nov/2024 12:06:12] \"GET /telemetry HTTP/1.1\" 200 -\n",
      "127.0.0.1 - - [04/Nov/2024 12:06:13] \"GET /telemetry HTTP/1.1\" 200 -\n",
      "127.0.0.1 - - [04/Nov/2024 12:06:14] \"GET /telemetry HTTP/1.1\" 200 -\n",
      "127.0.0.1 - - [04/Nov/2024 12:06:15] \"GET /telemetry HTTP/1.1\" 200 -\n",
      "127.0.0.1 - - [04/Nov/2024 12:06:16] \"GET /telemetry HTTP/1.1\" 200 -\n"
     ]
    },
    {
     "name": "stdout",
     "output_type": "stream",
     "text": [
      "Sending handshake...\n",
      "Packet sent to 127.0.0.1:9996\n",
      "Sending update...\n",
      "Packet sent to 127.0.0.1:9996\n",
      "Received buffer length: 328\n"
     ]
    },
    {
     "name": "stderr",
     "output_type": "stream",
     "text": [
      "127.0.0.1 - - [04/Nov/2024 12:06:17] \"GET /telemetry HTTP/1.1\" 200 -\n",
      "127.0.0.1 - - [04/Nov/2024 12:06:18] \"GET /telemetry HTTP/1.1\" 200 -\n",
      "127.0.0.1 - - [04/Nov/2024 12:06:19] \"GET /telemetry HTTP/1.1\" 200 -\n",
      "127.0.0.1 - - [04/Nov/2024 12:06:20] \"GET /telemetry HTTP/1.1\" 200 -\n",
      "127.0.0.1 - - [04/Nov/2024 12:06:21] \"GET /telemetry HTTP/1.1\" 200 -\n"
     ]
    },
    {
     "name": "stdout",
     "output_type": "stream",
     "text": [
      "Sending handshake...\n",
      "Packet sent to 127.0.0.1:9996\n",
      "Sending update...\n",
      "Packet sent to 127.0.0.1:9996\n",
      "Received buffer length: 328\n"
     ]
    },
    {
     "name": "stderr",
     "output_type": "stream",
     "text": [
      "127.0.0.1 - - [04/Nov/2024 12:06:22] \"GET /telemetry HTTP/1.1\" 200 -\n",
      "127.0.0.1 - - [04/Nov/2024 12:06:23] \"GET /telemetry HTTP/1.1\" 200 -\n",
      "127.0.0.1 - - [04/Nov/2024 12:06:24] \"GET /telemetry HTTP/1.1\" 200 -\n",
      "127.0.0.1 - - [04/Nov/2024 12:06:25] \"GET /telemetry HTTP/1.1\" 200 -\n"
     ]
    },
    {
     "name": "stdout",
     "output_type": "stream",
     "text": [
      "Sending handshake...\n",
      "Packet sent to 127.0.0.1:9996\n",
      "Sending update...\n",
      "Packet sent to 127.0.0.1:9996\n",
      "Received buffer length: 328\n"
     ]
    },
    {
     "name": "stderr",
     "output_type": "stream",
     "text": [
      "127.0.0.1 - - [04/Nov/2024 12:06:28] \"GET /telemetry HTTP/1.1\" 200 -\n",
      "127.0.0.1 - - [04/Nov/2024 12:06:28] \"GET /telemetry HTTP/1.1\" 200 -\n",
      "127.0.0.1 - - [04/Nov/2024 12:06:28] \"GET /telemetry HTTP/1.1\" 200 -\n",
      "127.0.0.1 - - [04/Nov/2024 12:06:29] \"GET /telemetry HTTP/1.1\" 200 -\n",
      "127.0.0.1 - - [04/Nov/2024 12:06:30] \"GET /telemetry HTTP/1.1\" 200 -\n",
      "127.0.0.1 - - [04/Nov/2024 12:06:31] \"GET /telemetry HTTP/1.1\" 200 -\n"
     ]
    },
    {
     "name": "stdout",
     "output_type": "stream",
     "text": [
      "Sending handshake...\n",
      "Packet sent to 127.0.0.1:9996\n",
      "Sending update...\n",
      "Packet sent to 127.0.0.1:9996\n",
      "Received buffer length: 328\n"
     ]
    },
    {
     "name": "stderr",
     "output_type": "stream",
     "text": [
      "127.0.0.1 - - [04/Nov/2024 12:06:32] \"GET /telemetry HTTP/1.1\" 200 -\n",
      "127.0.0.1 - - [04/Nov/2024 12:06:33] \"GET /telemetry HTTP/1.1\" 200 -\n",
      "127.0.0.1 - - [04/Nov/2024 12:06:34] \"GET /telemetry HTTP/1.1\" 200 -\n",
      "127.0.0.1 - - [04/Nov/2024 12:06:35] \"GET /telemetry HTTP/1.1\" 200 -\n",
      "127.0.0.1 - - [04/Nov/2024 12:06:36] \"GET /telemetry HTTP/1.1\" 200 -\n"
     ]
    },
    {
     "name": "stdout",
     "output_type": "stream",
     "text": [
      "Sending handshake...\n",
      "Packet sent to 127.0.0.1:9996\n",
      "Sending update...\n",
      "Packet sent to 127.0.0.1:9996\n",
      "Received buffer length: 328\n"
     ]
    },
    {
     "name": "stderr",
     "output_type": "stream",
     "text": [
      "127.0.0.1 - - [04/Nov/2024 12:06:37] \"GET /telemetry HTTP/1.1\" 200 -\n",
      "127.0.0.1 - - [04/Nov/2024 12:06:38] \"GET /telemetry HTTP/1.1\" 200 -\n",
      "127.0.0.1 - - [04/Nov/2024 12:06:39] \"GET /telemetry HTTP/1.1\" 200 -\n",
      "127.0.0.1 - - [04/Nov/2024 12:06:40] \"GET /telemetry HTTP/1.1\" 200 -\n",
      "127.0.0.1 - - [04/Nov/2024 12:06:41] \"GET /telemetry HTTP/1.1\" 200 -\n"
     ]
    },
    {
     "name": "stdout",
     "output_type": "stream",
     "text": [
      "Sending handshake...\n",
      "Packet sent to 127.0.0.1:9996\n",
      "Sending update...\n",
      "Packet sent to 127.0.0.1:9996\n",
      "Received buffer length: 328\n"
     ]
    },
    {
     "name": "stderr",
     "output_type": "stream",
     "text": [
      "127.0.0.1 - - [04/Nov/2024 12:06:42] \"GET /telemetry HTTP/1.1\" 200 -\n",
      "127.0.0.1 - - [04/Nov/2024 12:06:43] \"GET /telemetry HTTP/1.1\" 200 -\n",
      "127.0.0.1 - - [04/Nov/2024 12:06:44] \"GET /telemetry HTTP/1.1\" 200 -\n",
      "127.0.0.1 - - [04/Nov/2024 12:06:45] \"GET /telemetry HTTP/1.1\" 200 -\n",
      "127.0.0.1 - - [04/Nov/2024 12:06:46] \"GET /telemetry HTTP/1.1\" 200 -\n"
     ]
    },
    {
     "name": "stdout",
     "output_type": "stream",
     "text": [
      "Sending handshake...\n",
      "Packet sent to 127.0.0.1:9996\n",
      "Sending update...\n",
      "Packet sent to 127.0.0.1:9996\n",
      "Received buffer length: 328\n"
     ]
    },
    {
     "name": "stderr",
     "output_type": "stream",
     "text": [
      "127.0.0.1 - - [04/Nov/2024 12:06:47] \"GET /telemetry HTTP/1.1\" 200 -\n",
      "127.0.0.1 - - [04/Nov/2024 12:06:48] \"GET /telemetry HTTP/1.1\" 200 -\n",
      "127.0.0.1 - - [04/Nov/2024 12:06:49] \"GET /telemetry HTTP/1.1\" 200 -\n",
      "127.0.0.1 - - [04/Nov/2024 12:06:50] \"GET /telemetry HTTP/1.1\" 200 -\n",
      "127.0.0.1 - - [04/Nov/2024 12:06:51] \"GET /telemetry HTTP/1.1\" 200 -\n"
     ]
    },
    {
     "name": "stdout",
     "output_type": "stream",
     "text": [
      "Sending handshake...\n",
      "Packet sent to 127.0.0.1:9996\n",
      "Sending update...\n",
      "Packet sent to 127.0.0.1:9996\n",
      "Received buffer length: 328\n"
     ]
    },
    {
     "name": "stderr",
     "output_type": "stream",
     "text": [
      "127.0.0.1 - - [04/Nov/2024 12:06:52] \"GET /telemetry HTTP/1.1\" 200 -\n",
      "127.0.0.1 - - [04/Nov/2024 12:06:53] \"GET /telemetry HTTP/1.1\" 200 -\n",
      "127.0.0.1 - - [04/Nov/2024 12:06:54] \"GET /telemetry HTTP/1.1\" 200 -\n",
      "127.0.0.1 - - [04/Nov/2024 12:06:55] \"GET /telemetry HTTP/1.1\" 200 -\n",
      "127.0.0.1 - - [04/Nov/2024 12:06:56] \"GET /telemetry HTTP/1.1\" 200 -\n"
     ]
    },
    {
     "name": "stdout",
     "output_type": "stream",
     "text": [
      "Sending handshake...\n",
      "Packet sent to 127.0.0.1:9996\n",
      "Sending update...\n",
      "Packet sent to 127.0.0.1:9996\n",
      "Received buffer length: 328\n"
     ]
    },
    {
     "name": "stderr",
     "output_type": "stream",
     "text": [
      "127.0.0.1 - - [04/Nov/2024 12:06:57] \"GET /telemetry HTTP/1.1\" 200 -\n",
      "127.0.0.1 - - [04/Nov/2024 12:06:58] \"GET /telemetry HTTP/1.1\" 200 -\n",
      "127.0.0.1 - - [04/Nov/2024 12:06:59] \"GET /telemetry HTTP/1.1\" 200 -\n",
      "127.0.0.1 - - [04/Nov/2024 12:07:00] \"GET /telemetry HTTP/1.1\" 200 -\n",
      "127.0.0.1 - - [04/Nov/2024 12:07:01] \"GET /telemetry HTTP/1.1\" 200 -\n"
     ]
    },
    {
     "name": "stdout",
     "output_type": "stream",
     "text": [
      "Sending handshake...\n",
      "Packet sent to 127.0.0.1:9996\n",
      "Sending update...\n",
      "Packet sent to 127.0.0.1:9996\n",
      "Received buffer length: 328\n"
     ]
    },
    {
     "name": "stderr",
     "output_type": "stream",
     "text": [
      "127.0.0.1 - - [04/Nov/2024 12:07:02] \"GET /telemetry HTTP/1.1\" 200 -\n",
      "127.0.0.1 - - [04/Nov/2024 12:07:03] \"GET /telemetry HTTP/1.1\" 200 -\n",
      "127.0.0.1 - - [04/Nov/2024 12:07:04] \"GET /telemetry HTTP/1.1\" 200 -\n",
      "127.0.0.1 - - [04/Nov/2024 12:07:05] \"GET /telemetry HTTP/1.1\" 200 -\n",
      "127.0.0.1 - - [04/Nov/2024 12:07:06] \"GET /telemetry HTTP/1.1\" 200 -\n"
     ]
    },
    {
     "name": "stdout",
     "output_type": "stream",
     "text": [
      "Sending handshake...\n",
      "Packet sent to 127.0.0.1:9996\n",
      "Sending update...\n",
      "Packet sent to 127.0.0.1:9996\n",
      "Received buffer length: 328\n"
     ]
    },
    {
     "name": "stderr",
     "output_type": "stream",
     "text": [
      "127.0.0.1 - - [04/Nov/2024 12:07:07] \"GET /telemetry HTTP/1.1\" 200 -\n",
      "127.0.0.1 - - [04/Nov/2024 12:07:08] \"GET /telemetry HTTP/1.1\" 200 -\n",
      "127.0.0.1 - - [04/Nov/2024 12:07:09] \"GET /telemetry HTTP/1.1\" 200 -\n",
      "127.0.0.1 - - [04/Nov/2024 12:07:10] \"GET /telemetry HTTP/1.1\" 200 -\n",
      "127.0.0.1 - - [04/Nov/2024 12:07:11] \"GET /telemetry HTTP/1.1\" 200 -\n"
     ]
    },
    {
     "name": "stdout",
     "output_type": "stream",
     "text": [
      "Sending handshake...\n",
      "Packet sent to 127.0.0.1:9996\n",
      "Sending update...\n",
      "Packet sent to 127.0.0.1:9996\n",
      "Received buffer length: 328\n"
     ]
    },
    {
     "name": "stderr",
     "output_type": "stream",
     "text": [
      "127.0.0.1 - - [04/Nov/2024 12:07:12] \"GET /telemetry HTTP/1.1\" 200 -\n",
      "127.0.0.1 - - [04/Nov/2024 12:07:13] \"GET /telemetry HTTP/1.1\" 200 -\n",
      "127.0.0.1 - - [04/Nov/2024 12:07:14] \"GET /telemetry HTTP/1.1\" 200 -\n",
      "127.0.0.1 - - [04/Nov/2024 12:07:15] \"GET /telemetry HTTP/1.1\" 200 -\n",
      "127.0.0.1 - - [04/Nov/2024 12:07:16] \"GET /telemetry HTTP/1.1\" 200 -\n"
     ]
    },
    {
     "name": "stdout",
     "output_type": "stream",
     "text": [
      "Sending handshake...\n",
      "Packet sent to 127.0.0.1:9996\n",
      "Sending update...\n",
      "Packet sent to 127.0.0.1:9996\n",
      "Received buffer length: 328\n"
     ]
    },
    {
     "name": "stderr",
     "output_type": "stream",
     "text": [
      "127.0.0.1 - - [04/Nov/2024 12:07:17] \"GET /telemetry HTTP/1.1\" 200 -\n",
      "127.0.0.1 - - [04/Nov/2024 12:07:18] \"GET /telemetry HTTP/1.1\" 200 -\n",
      "127.0.0.1 - - [04/Nov/2024 12:07:19] \"GET /telemetry HTTP/1.1\" 200 -\n",
      "127.0.0.1 - - [04/Nov/2024 12:07:20] \"GET /telemetry HTTP/1.1\" 200 -\n",
      "127.0.0.1 - - [04/Nov/2024 12:07:21] \"GET /telemetry HTTP/1.1\" 200 -\n"
     ]
    },
    {
     "name": "stdout",
     "output_type": "stream",
     "text": [
      "Sending handshake...\n",
      "Packet sent to 127.0.0.1:9996\n",
      "Sending update...\n",
      "Packet sent to 127.0.0.1:9996\n",
      "Received buffer length: 328\n"
     ]
    },
    {
     "name": "stderr",
     "output_type": "stream",
     "text": [
      "127.0.0.1 - - [04/Nov/2024 12:07:22] \"GET /telemetry HTTP/1.1\" 200 -\n",
      "127.0.0.1 - - [04/Nov/2024 12:07:23] \"GET /telemetry HTTP/1.1\" 200 -\n",
      "127.0.0.1 - - [04/Nov/2024 12:07:24] \"GET /telemetry HTTP/1.1\" 200 -\n",
      "127.0.0.1 - - [04/Nov/2024 12:07:25] \"GET /telemetry HTTP/1.1\" 200 -\n",
      "127.0.0.1 - - [04/Nov/2024 12:07:26] \"GET /telemetry HTTP/1.1\" 200 -\n"
     ]
    },
    {
     "name": "stdout",
     "output_type": "stream",
     "text": [
      "Sending handshake...\n",
      "Packet sent to 127.0.0.1:9996\n",
      "Sending update...\n",
      "Packet sent to 127.0.0.1:9996\n",
      "Received buffer length: 328\n"
     ]
    },
    {
     "name": "stderr",
     "output_type": "stream",
     "text": [
      "127.0.0.1 - - [04/Nov/2024 12:07:27] \"GET /telemetry HTTP/1.1\" 200 -\n",
      "127.0.0.1 - - [04/Nov/2024 12:07:28] \"GET /telemetry HTTP/1.1\" 200 -\n",
      "127.0.0.1 - - [04/Nov/2024 12:07:29] \"GET /telemetry HTTP/1.1\" 200 -\n",
      "127.0.0.1 - - [04/Nov/2024 12:07:30] \"GET /telemetry HTTP/1.1\" 200 -\n",
      "127.0.0.1 - - [04/Nov/2024 12:07:31] \"GET /telemetry HTTP/1.1\" 200 -\n"
     ]
    },
    {
     "name": "stdout",
     "output_type": "stream",
     "text": [
      "Sending handshake...\n",
      "Packet sent to 127.0.0.1:9996\n",
      "Sending update...\n",
      "Packet sent to 127.0.0.1:9996\n",
      "Received buffer length: 328\n"
     ]
    },
    {
     "name": "stderr",
     "output_type": "stream",
     "text": [
      "127.0.0.1 - - [04/Nov/2024 12:07:32] \"GET /telemetry HTTP/1.1\" 200 -\n",
      "127.0.0.1 - - [04/Nov/2024 12:07:33] \"GET /telemetry HTTP/1.1\" 200 -\n",
      "127.0.0.1 - - [04/Nov/2024 12:07:34] \"GET /telemetry HTTP/1.1\" 200 -\n",
      "127.0.0.1 - - [04/Nov/2024 12:07:35] \"GET /telemetry HTTP/1.1\" 200 -\n",
      "127.0.0.1 - - [04/Nov/2024 12:07:36] \"GET /telemetry HTTP/1.1\" 200 -\n"
     ]
    },
    {
     "name": "stdout",
     "output_type": "stream",
     "text": [
      "Sending handshake...\n",
      "Packet sent to 127.0.0.1:9996\n",
      "Sending update...\n",
      "Packet sent to 127.0.0.1:9996\n",
      "Received buffer length: 328\n"
     ]
    },
    {
     "name": "stderr",
     "output_type": "stream",
     "text": [
      "127.0.0.1 - - [04/Nov/2024 12:07:37] \"GET /telemetry HTTP/1.1\" 200 -\n",
      "127.0.0.1 - - [04/Nov/2024 12:07:38] \"GET /telemetry HTTP/1.1\" 200 -\n",
      "127.0.0.1 - - [04/Nov/2024 12:07:39] \"GET /telemetry HTTP/1.1\" 200 -\n",
      "127.0.0.1 - - [04/Nov/2024 12:07:40] \"GET /telemetry HTTP/1.1\" 200 -\n",
      "127.0.0.1 - - [04/Nov/2024 12:07:41] \"GET /telemetry HTTP/1.1\" 200 -\n"
     ]
    },
    {
     "name": "stdout",
     "output_type": "stream",
     "text": [
      "Sending handshake...\n",
      "Packet sent to 127.0.0.1:9996\n",
      "Sending update...\n",
      "Packet sent to 127.0.0.1:9996\n",
      "Received buffer length: 328\n"
     ]
    },
    {
     "name": "stderr",
     "output_type": "stream",
     "text": [
      "127.0.0.1 - - [04/Nov/2024 12:07:42] \"GET /telemetry HTTP/1.1\" 200 -\n",
      "127.0.0.1 - - [04/Nov/2024 12:07:43] \"GET /telemetry HTTP/1.1\" 200 -\n",
      "127.0.0.1 - - [04/Nov/2024 12:07:44] \"GET /telemetry HTTP/1.1\" 200 -\n",
      "127.0.0.1 - - [04/Nov/2024 12:07:45] \"GET /telemetry HTTP/1.1\" 200 -\n",
      "127.0.0.1 - - [04/Nov/2024 12:07:46] \"GET /telemetry HTTP/1.1\" 200 -\n"
     ]
    },
    {
     "name": "stdout",
     "output_type": "stream",
     "text": [
      "Sending handshake...\n",
      "Packet sent to 127.0.0.1:9996\n",
      "Sending update...\n",
      "Packet sent to 127.0.0.1:9996\n",
      "Received buffer length: 328\n"
     ]
    },
    {
     "name": "stderr",
     "output_type": "stream",
     "text": [
      "127.0.0.1 - - [04/Nov/2024 12:07:47] \"GET /telemetry HTTP/1.1\" 200 -\n",
      "127.0.0.1 - - [04/Nov/2024 12:07:48] \"GET /telemetry HTTP/1.1\" 200 -\n",
      "127.0.0.1 - - [04/Nov/2024 12:07:49] \"GET /telemetry HTTP/1.1\" 200 -\n",
      "127.0.0.1 - - [04/Nov/2024 12:07:50] \"GET /telemetry HTTP/1.1\" 200 -\n",
      "127.0.0.1 - - [04/Nov/2024 12:07:51] \"GET /telemetry HTTP/1.1\" 200 -\n"
     ]
    },
    {
     "name": "stdout",
     "output_type": "stream",
     "text": [
      "Sending handshake...\n",
      "Packet sent to 127.0.0.1:9996\n",
      "Sending update...\n",
      "Packet sent to 127.0.0.1:9996\n",
      "Received buffer length: 328\n"
     ]
    },
    {
     "name": "stderr",
     "output_type": "stream",
     "text": [
      "127.0.0.1 - - [04/Nov/2024 12:07:52] \"GET /telemetry HTTP/1.1\" 200 -\n",
      "127.0.0.1 - - [04/Nov/2024 12:07:53] \"GET /telemetry HTTP/1.1\" 200 -\n",
      "127.0.0.1 - - [04/Nov/2024 12:07:54] \"GET /telemetry HTTP/1.1\" 200 -\n",
      "127.0.0.1 - - [04/Nov/2024 12:07:55] \"GET /telemetry HTTP/1.1\" 200 -\n",
      "127.0.0.1 - - [04/Nov/2024 12:07:56] \"GET /telemetry HTTP/1.1\" 200 -\n"
     ]
    },
    {
     "name": "stdout",
     "output_type": "stream",
     "text": [
      "Sending handshake...\n",
      "Packet sent to 127.0.0.1:9996\n",
      "Sending update...\n",
      "Packet sent to 127.0.0.1:9996\n",
      "Received buffer length: 328\n"
     ]
    },
    {
     "name": "stderr",
     "output_type": "stream",
     "text": [
      "127.0.0.1 - - [04/Nov/2024 12:07:57] \"GET /telemetry HTTP/1.1\" 200 -\n",
      "127.0.0.1 - - [04/Nov/2024 12:07:58] \"GET /telemetry HTTP/1.1\" 200 -\n",
      "127.0.0.1 - - [04/Nov/2024 12:07:59] \"GET /telemetry HTTP/1.1\" 200 -\n",
      "127.0.0.1 - - [04/Nov/2024 12:08:00] \"GET /telemetry HTTP/1.1\" 200 -\n",
      "127.0.0.1 - - [04/Nov/2024 12:08:01] \"GET /telemetry HTTP/1.1\" 200 -\n"
     ]
    },
    {
     "name": "stdout",
     "output_type": "stream",
     "text": [
      "Sending handshake...\n",
      "Packet sent to 127.0.0.1:9996\n",
      "Sending update...\n",
      "Packet sent to 127.0.0.1:9996\n",
      "Received buffer length: 328\n"
     ]
    },
    {
     "name": "stderr",
     "output_type": "stream",
     "text": [
      "127.0.0.1 - - [04/Nov/2024 12:08:02] \"GET /telemetry HTTP/1.1\" 200 -\n",
      "127.0.0.1 - - [04/Nov/2024 12:08:03] \"GET /telemetry HTTP/1.1\" 200 -\n",
      "127.0.0.1 - - [04/Nov/2024 12:08:04] \"GET /telemetry HTTP/1.1\" 200 -\n",
      "127.0.0.1 - - [04/Nov/2024 12:08:05] \"GET /telemetry HTTP/1.1\" 200 -\n",
      "127.0.0.1 - - [04/Nov/2024 12:08:06] \"GET /telemetry HTTP/1.1\" 200 -\n"
     ]
    },
    {
     "name": "stdout",
     "output_type": "stream",
     "text": [
      "Sending handshake...\n",
      "Packet sent to 127.0.0.1:9996\n",
      "Sending update...\n",
      "Packet sent to 127.0.0.1:9996\n",
      "Received buffer length: 328\n"
     ]
    },
    {
     "name": "stderr",
     "output_type": "stream",
     "text": [
      "127.0.0.1 - - [04/Nov/2024 12:08:07] \"GET /telemetry HTTP/1.1\" 200 -\n",
      "127.0.0.1 - - [04/Nov/2024 12:08:08] \"GET /telemetry HTTP/1.1\" 200 -\n",
      "127.0.0.1 - - [04/Nov/2024 12:08:09] \"GET /telemetry HTTP/1.1\" 200 -\n",
      "127.0.0.1 - - [04/Nov/2024 12:08:10] \"GET /telemetry HTTP/1.1\" 200 -\n",
      "127.0.0.1 - - [04/Nov/2024 12:08:11] \"GET /telemetry HTTP/1.1\" 200 -\n"
     ]
    },
    {
     "name": "stdout",
     "output_type": "stream",
     "text": [
      "Sending handshake...\n",
      "Packet sent to 127.0.0.1:9996\n",
      "Sending update...\n",
      "Packet sent to 127.0.0.1:9996\n",
      "Received buffer length: 328\n"
     ]
    },
    {
     "name": "stderr",
     "output_type": "stream",
     "text": [
      "127.0.0.1 - - [04/Nov/2024 12:08:12] \"GET /telemetry HTTP/1.1\" 200 -\n",
      "127.0.0.1 - - [04/Nov/2024 12:08:13] \"GET /telemetry HTTP/1.1\" 200 -\n",
      "127.0.0.1 - - [04/Nov/2024 12:08:14] \"GET /telemetry HTTP/1.1\" 200 -\n",
      "127.0.0.1 - - [04/Nov/2024 12:08:15] \"GET /telemetry HTTP/1.1\" 200 -\n",
      "127.0.0.1 - - [04/Nov/2024 12:08:16] \"GET /telemetry HTTP/1.1\" 200 -\n"
     ]
    },
    {
     "name": "stdout",
     "output_type": "stream",
     "text": [
      "Sending handshake...\n",
      "Packet sent to 127.0.0.1:9996\n",
      "Sending update...\n",
      "Packet sent to 127.0.0.1:9996\n",
      "Received buffer length: 328\n"
     ]
    },
    {
     "name": "stderr",
     "output_type": "stream",
     "text": [
      "127.0.0.1 - - [04/Nov/2024 12:08:17] \"GET /telemetry HTTP/1.1\" 200 -\n",
      "127.0.0.1 - - [04/Nov/2024 12:08:18] \"GET /telemetry HTTP/1.1\" 200 -\n",
      "127.0.0.1 - - [04/Nov/2024 12:08:19] \"GET /telemetry HTTP/1.1\" 200 -\n",
      "127.0.0.1 - - [04/Nov/2024 12:08:20] \"GET /telemetry HTTP/1.1\" 200 -\n",
      "127.0.0.1 - - [04/Nov/2024 12:08:21] \"GET /telemetry HTTP/1.1\" 200 -\n"
     ]
    },
    {
     "name": "stdout",
     "output_type": "stream",
     "text": [
      "Sending handshake...\n",
      "Packet sent to 127.0.0.1:9996\n",
      "Sending update...\n",
      "Packet sent to 127.0.0.1:9996\n",
      "Received buffer length: 328\n"
     ]
    },
    {
     "name": "stderr",
     "output_type": "stream",
     "text": [
      "127.0.0.1 - - [04/Nov/2024 12:08:22] \"GET /telemetry HTTP/1.1\" 200 -\n",
      "127.0.0.1 - - [04/Nov/2024 12:08:23] \"GET /telemetry HTTP/1.1\" 200 -\n",
      "127.0.0.1 - - [04/Nov/2024 12:08:24] \"GET /telemetry HTTP/1.1\" 200 -\n",
      "127.0.0.1 - - [04/Nov/2024 12:08:25] \"GET /telemetry HTTP/1.1\" 200 -\n",
      "127.0.0.1 - - [04/Nov/2024 12:08:26] \"GET /telemetry HTTP/1.1\" 200 -\n"
     ]
    },
    {
     "name": "stdout",
     "output_type": "stream",
     "text": [
      "Sending handshake...\n",
      "Packet sent to 127.0.0.1:9996\n",
      "Sending update...\n",
      "Packet sent to 127.0.0.1:9996\n",
      "Received buffer length: 328\n"
     ]
    },
    {
     "name": "stderr",
     "output_type": "stream",
     "text": [
      "127.0.0.1 - - [04/Nov/2024 12:08:27] \"GET /telemetry HTTP/1.1\" 200 -\n",
      "127.0.0.1 - - [04/Nov/2024 12:08:28] \"GET /telemetry HTTP/1.1\" 200 -\n",
      "127.0.0.1 - - [04/Nov/2024 12:08:29] \"GET /telemetry HTTP/1.1\" 200 -\n",
      "127.0.0.1 - - [04/Nov/2024 12:08:30] \"GET /telemetry HTTP/1.1\" 200 -\n",
      "127.0.0.1 - - [04/Nov/2024 12:08:31] \"GET /telemetry HTTP/1.1\" 200 -\n"
     ]
    },
    {
     "name": "stdout",
     "output_type": "stream",
     "text": [
      "Sending handshake...\n",
      "Packet sent to 127.0.0.1:9996\n",
      "Sending update...\n",
      "Packet sent to 127.0.0.1:9996\n",
      "Received buffer length: 328\n"
     ]
    },
    {
     "name": "stderr",
     "output_type": "stream",
     "text": [
      "127.0.0.1 - - [04/Nov/2024 12:08:32] \"GET /telemetry HTTP/1.1\" 200 -\n",
      "127.0.0.1 - - [04/Nov/2024 12:08:33] \"GET /telemetry HTTP/1.1\" 200 -\n",
      "127.0.0.1 - - [04/Nov/2024 12:08:34] \"GET /telemetry HTTP/1.1\" 200 -\n",
      "127.0.0.1 - - [04/Nov/2024 12:08:35] \"GET /telemetry HTTP/1.1\" 200 -\n",
      "127.0.0.1 - - [04/Nov/2024 12:08:36] \"GET /telemetry HTTP/1.1\" 200 -\n"
     ]
    },
    {
     "name": "stdout",
     "output_type": "stream",
     "text": [
      "Sending handshake...\n",
      "Packet sent to 127.0.0.1:9996\n",
      "Sending update...\n",
      "Packet sent to 127.0.0.1:9996\n",
      "Received buffer length: 328\n"
     ]
    },
    {
     "name": "stderr",
     "output_type": "stream",
     "text": [
      "127.0.0.1 - - [04/Nov/2024 12:08:37] \"GET /telemetry HTTP/1.1\" 200 -\n",
      "127.0.0.1 - - [04/Nov/2024 12:08:38] \"GET /telemetry HTTP/1.1\" 200 -\n",
      "127.0.0.1 - - [04/Nov/2024 12:08:39] \"GET /telemetry HTTP/1.1\" 200 -\n",
      "127.0.0.1 - - [04/Nov/2024 12:08:40] \"GET /telemetry HTTP/1.1\" 200 -\n",
      "127.0.0.1 - - [04/Nov/2024 12:08:41] \"GET /telemetry HTTP/1.1\" 200 -\n"
     ]
    },
    {
     "name": "stdout",
     "output_type": "stream",
     "text": [
      "Sending handshake...\n",
      "Packet sent to 127.0.0.1:9996\n",
      "Sending update...\n",
      "Packet sent to 127.0.0.1:9996\n",
      "Received buffer length: 328\n"
     ]
    },
    {
     "name": "stderr",
     "output_type": "stream",
     "text": [
      "127.0.0.1 - - [04/Nov/2024 12:08:42] \"GET /telemetry HTTP/1.1\" 200 -\n",
      "127.0.0.1 - - [04/Nov/2024 12:08:43] \"GET /telemetry HTTP/1.1\" 200 -\n",
      "127.0.0.1 - - [04/Nov/2024 12:08:44] \"GET /telemetry HTTP/1.1\" 200 -\n",
      "127.0.0.1 - - [04/Nov/2024 12:08:45] \"GET /telemetry HTTP/1.1\" 200 -\n",
      "127.0.0.1 - - [04/Nov/2024 12:08:46] \"GET /telemetry HTTP/1.1\" 200 -\n"
     ]
    },
    {
     "name": "stdout",
     "output_type": "stream",
     "text": [
      "Sending handshake...\n",
      "Packet sent to 127.0.0.1:9996\n",
      "Sending update...\n",
      "Packet sent to 127.0.0.1:9996\n",
      "Received buffer length: 328\n"
     ]
    },
    {
     "name": "stderr",
     "output_type": "stream",
     "text": [
      "127.0.0.1 - - [04/Nov/2024 12:08:47] \"GET /telemetry HTTP/1.1\" 200 -\n",
      "127.0.0.1 - - [04/Nov/2024 12:08:48] \"GET /telemetry HTTP/1.1\" 200 -\n",
      "127.0.0.1 - - [04/Nov/2024 12:08:49] \"GET /telemetry HTTP/1.1\" 200 -\n",
      "127.0.0.1 - - [04/Nov/2024 12:08:50] \"GET /telemetry HTTP/1.1\" 200 -\n",
      "127.0.0.1 - - [04/Nov/2024 12:08:51] \"GET /telemetry HTTP/1.1\" 200 -\n"
     ]
    },
    {
     "name": "stdout",
     "output_type": "stream",
     "text": [
      "Sending handshake...\n",
      "Packet sent to 127.0.0.1:9996\n",
      "Sending update...\n",
      "Packet sent to 127.0.0.1:9996\n",
      "Received buffer length: 328\n"
     ]
    },
    {
     "name": "stderr",
     "output_type": "stream",
     "text": [
      "127.0.0.1 - - [04/Nov/2024 12:08:52] \"GET /telemetry HTTP/1.1\" 200 -\n",
      "127.0.0.1 - - [04/Nov/2024 12:08:53] \"GET /telemetry HTTP/1.1\" 200 -\n",
      "127.0.0.1 - - [04/Nov/2024 12:08:54] \"GET /telemetry HTTP/1.1\" 200 -\n",
      "127.0.0.1 - - [04/Nov/2024 12:08:55] \"GET /telemetry HTTP/1.1\" 200 -\n",
      "127.0.0.1 - - [04/Nov/2024 12:08:56] \"GET /telemetry HTTP/1.1\" 200 -\n"
     ]
    },
    {
     "name": "stdout",
     "output_type": "stream",
     "text": [
      "Sending handshake...\n",
      "Packet sent to 127.0.0.1:9996\n",
      "Sending update...\n",
      "Packet sent to 127.0.0.1:9996\n",
      "Received buffer length: 328\n"
     ]
    },
    {
     "name": "stderr",
     "output_type": "stream",
     "text": [
      "127.0.0.1 - - [04/Nov/2024 12:08:57] \"GET /telemetry HTTP/1.1\" 200 -\n",
      "127.0.0.1 - - [04/Nov/2024 12:08:58] \"GET /telemetry HTTP/1.1\" 200 -\n",
      "127.0.0.1 - - [04/Nov/2024 12:08:59] \"GET /telemetry HTTP/1.1\" 200 -\n",
      "127.0.0.1 - - [04/Nov/2024 12:09:00] \"GET /telemetry HTTP/1.1\" 200 -\n",
      "127.0.0.1 - - [04/Nov/2024 12:09:01] \"GET /telemetry HTTP/1.1\" 200 -\n"
     ]
    },
    {
     "name": "stdout",
     "output_type": "stream",
     "text": [
      "Sending handshake...\n",
      "Packet sent to 127.0.0.1:9996\n",
      "Sending update...\n",
      "Packet sent to 127.0.0.1:9996\n",
      "Received buffer length: 328\n"
     ]
    },
    {
     "name": "stderr",
     "output_type": "stream",
     "text": [
      "127.0.0.1 - - [04/Nov/2024 12:09:02] \"GET /telemetry HTTP/1.1\" 200 -\n",
      "127.0.0.1 - - [04/Nov/2024 12:09:03] \"GET /telemetry HTTP/1.1\" 200 -\n",
      "127.0.0.1 - - [04/Nov/2024 12:09:04] \"GET /telemetry HTTP/1.1\" 200 -\n",
      "127.0.0.1 - - [04/Nov/2024 12:09:05] \"GET /telemetry HTTP/1.1\" 200 -\n",
      "127.0.0.1 - - [04/Nov/2024 12:09:06] \"GET /telemetry HTTP/1.1\" 200 -\n"
     ]
    },
    {
     "name": "stdout",
     "output_type": "stream",
     "text": [
      "Sending handshake...\n",
      "Packet sent to 127.0.0.1:9996\n",
      "Sending update...\n",
      "Packet sent to 127.0.0.1:9996\n",
      "Received buffer length: 328\n"
     ]
    },
    {
     "name": "stderr",
     "output_type": "stream",
     "text": [
      "127.0.0.1 - - [04/Nov/2024 12:09:07] \"GET /telemetry HTTP/1.1\" 200 -\n",
      "127.0.0.1 - - [04/Nov/2024 12:09:08] \"GET /telemetry HTTP/1.1\" 200 -\n",
      "127.0.0.1 - - [04/Nov/2024 12:09:09] \"GET /telemetry HTTP/1.1\" 200 -\n",
      "127.0.0.1 - - [04/Nov/2024 12:09:10] \"GET /telemetry HTTP/1.1\" 200 -\n",
      "127.0.0.1 - - [04/Nov/2024 12:09:11] \"GET /telemetry HTTP/1.1\" 200 -\n"
     ]
    },
    {
     "name": "stdout",
     "output_type": "stream",
     "text": [
      "Sending handshake...\n",
      "Packet sent to 127.0.0.1:9996\n",
      "Sending update...\n",
      "Packet sent to 127.0.0.1:9996\n",
      "Received buffer length: 328\n"
     ]
    },
    {
     "name": "stderr",
     "output_type": "stream",
     "text": [
      "127.0.0.1 - - [04/Nov/2024 12:09:12] \"GET /telemetry HTTP/1.1\" 200 -\n",
      "127.0.0.1 - - [04/Nov/2024 12:09:13] \"GET /telemetry HTTP/1.1\" 200 -\n",
      "127.0.0.1 - - [04/Nov/2024 12:09:14] \"GET /telemetry HTTP/1.1\" 200 -\n",
      "127.0.0.1 - - [04/Nov/2024 12:09:15] \"GET /telemetry HTTP/1.1\" 200 -\n",
      "127.0.0.1 - - [04/Nov/2024 12:09:16] \"GET /telemetry HTTP/1.1\" 200 -\n"
     ]
    },
    {
     "name": "stdout",
     "output_type": "stream",
     "text": [
      "Sending handshake...\n",
      "Packet sent to 127.0.0.1:9996\n",
      "Sending update...\n",
      "Packet sent to 127.0.0.1:9996\n",
      "Received buffer length: 328\n"
     ]
    },
    {
     "name": "stderr",
     "output_type": "stream",
     "text": [
      "127.0.0.1 - - [04/Nov/2024 12:09:17] \"GET /telemetry HTTP/1.1\" 200 -\n",
      "127.0.0.1 - - [04/Nov/2024 12:09:18] \"GET /telemetry HTTP/1.1\" 200 -\n",
      "127.0.0.1 - - [04/Nov/2024 12:09:19] \"GET /telemetry HTTP/1.1\" 200 -\n",
      "127.0.0.1 - - [04/Nov/2024 12:09:20] \"GET /telemetry HTTP/1.1\" 200 -\n",
      "127.0.0.1 - - [04/Nov/2024 12:09:21] \"GET /telemetry HTTP/1.1\" 200 -\n"
     ]
    },
    {
     "name": "stdout",
     "output_type": "stream",
     "text": [
      "Sending handshake...\n",
      "Packet sent to 127.0.0.1:9996\n",
      "Sending update...\n",
      "Packet sent to 127.0.0.1:9996\n",
      "Received buffer length: 328\n"
     ]
    },
    {
     "name": "stderr",
     "output_type": "stream",
     "text": [
      "127.0.0.1 - - [04/Nov/2024 12:09:22] \"GET /telemetry HTTP/1.1\" 200 -\n",
      "127.0.0.1 - - [04/Nov/2024 12:09:23] \"GET /telemetry HTTP/1.1\" 200 -\n",
      "127.0.0.1 - - [04/Nov/2024 12:09:24] \"GET /telemetry HTTP/1.1\" 200 -\n",
      "127.0.0.1 - - [04/Nov/2024 12:09:25] \"GET /telemetry HTTP/1.1\" 200 -\n",
      "127.0.0.1 - - [04/Nov/2024 12:09:26] \"GET /telemetry HTTP/1.1\" 200 -\n"
     ]
    },
    {
     "name": "stdout",
     "output_type": "stream",
     "text": [
      "Sending handshake...\n",
      "Packet sent to 127.0.0.1:9996\n",
      "Sending update...\n",
      "Packet sent to 127.0.0.1:9996\n",
      "Received buffer length: 328\n"
     ]
    },
    {
     "name": "stderr",
     "output_type": "stream",
     "text": [
      "127.0.0.1 - - [04/Nov/2024 12:09:27] \"GET /telemetry HTTP/1.1\" 200 -\n",
      "127.0.0.1 - - [04/Nov/2024 12:09:28] \"GET /telemetry HTTP/1.1\" 200 -\n",
      "127.0.0.1 - - [04/Nov/2024 12:09:29] \"GET /telemetry HTTP/1.1\" 200 -\n",
      "127.0.0.1 - - [04/Nov/2024 12:09:30] \"GET /telemetry HTTP/1.1\" 200 -\n",
      "127.0.0.1 - - [04/Nov/2024 12:09:31] \"GET /telemetry HTTP/1.1\" 200 -\n"
     ]
    },
    {
     "name": "stdout",
     "output_type": "stream",
     "text": [
      "Sending handshake...\n",
      "Packet sent to 127.0.0.1:9996\n",
      "Sending update...\n",
      "Packet sent to 127.0.0.1:9996\n",
      "Received buffer length: 328\n"
     ]
    },
    {
     "name": "stderr",
     "output_type": "stream",
     "text": [
      "127.0.0.1 - - [04/Nov/2024 12:09:32] \"GET /telemetry HTTP/1.1\" 200 -\n",
      "127.0.0.1 - - [04/Nov/2024 12:09:33] \"GET /telemetry HTTP/1.1\" 200 -\n",
      "127.0.0.1 - - [04/Nov/2024 12:09:34] \"GET /telemetry HTTP/1.1\" 200 -\n",
      "127.0.0.1 - - [04/Nov/2024 12:09:35] \"GET /telemetry HTTP/1.1\" 200 -\n",
      "127.0.0.1 - - [04/Nov/2024 12:09:36] \"GET /telemetry HTTP/1.1\" 200 -\n"
     ]
    },
    {
     "name": "stdout",
     "output_type": "stream",
     "text": [
      "Sending handshake...\n",
      "Packet sent to 127.0.0.1:9996\n",
      "Sending update...\n",
      "Packet sent to 127.0.0.1:9996\n",
      "Received buffer length: 328\n"
     ]
    },
    {
     "name": "stderr",
     "output_type": "stream",
     "text": [
      "127.0.0.1 - - [04/Nov/2024 12:09:37] \"GET /telemetry HTTP/1.1\" 200 -\n",
      "127.0.0.1 - - [04/Nov/2024 12:09:38] \"GET /telemetry HTTP/1.1\" 200 -\n",
      "127.0.0.1 - - [04/Nov/2024 12:09:39] \"GET /telemetry HTTP/1.1\" 200 -\n",
      "127.0.0.1 - - [04/Nov/2024 12:09:40] \"GET /telemetry HTTP/1.1\" 200 -\n",
      "127.0.0.1 - - [04/Nov/2024 12:09:41] \"GET /telemetry HTTP/1.1\" 200 -\n"
     ]
    },
    {
     "name": "stdout",
     "output_type": "stream",
     "text": [
      "Sending handshake...\n",
      "Packet sent to 127.0.0.1:9996\n",
      "Sending update...\n",
      "Packet sent to 127.0.0.1:9996\n",
      "Received buffer length: 328\n"
     ]
    },
    {
     "name": "stderr",
     "output_type": "stream",
     "text": [
      "127.0.0.1 - - [04/Nov/2024 12:09:42] \"GET /telemetry HTTP/1.1\" 200 -\n",
      "127.0.0.1 - - [04/Nov/2024 12:09:43] \"GET /telemetry HTTP/1.1\" 200 -\n",
      "127.0.0.1 - - [04/Nov/2024 12:09:44] \"GET /telemetry HTTP/1.1\" 200 -\n",
      "127.0.0.1 - - [04/Nov/2024 12:09:45] \"GET /telemetry HTTP/1.1\" 200 -\n",
      "127.0.0.1 - - [04/Nov/2024 12:09:46] \"GET /telemetry HTTP/1.1\" 200 -\n"
     ]
    },
    {
     "name": "stdout",
     "output_type": "stream",
     "text": [
      "Sending handshake...\n",
      "Packet sent to 127.0.0.1:9996\n",
      "Sending update...\n",
      "Packet sent to 127.0.0.1:9996\n",
      "Received buffer length: 328\n"
     ]
    },
    {
     "name": "stderr",
     "output_type": "stream",
     "text": [
      "127.0.0.1 - - [04/Nov/2024 12:09:47] \"GET /telemetry HTTP/1.1\" 200 -\n",
      "127.0.0.1 - - [04/Nov/2024 12:09:48] \"GET /telemetry HTTP/1.1\" 200 -\n",
      "127.0.0.1 - - [04/Nov/2024 12:09:49] \"GET /telemetry HTTP/1.1\" 200 -\n",
      "127.0.0.1 - - [04/Nov/2024 12:09:50] \"GET /telemetry HTTP/1.1\" 200 -\n",
      "127.0.0.1 - - [04/Nov/2024 12:09:51] \"GET /telemetry HTTP/1.1\" 200 -\n"
     ]
    },
    {
     "name": "stdout",
     "output_type": "stream",
     "text": [
      "Sending handshake...\n",
      "Packet sent to 127.0.0.1:9996\n",
      "Sending update...\n",
      "Packet sent to 127.0.0.1:9996\n",
      "Received buffer length: 328\n"
     ]
    },
    {
     "name": "stderr",
     "output_type": "stream",
     "text": [
      "127.0.0.1 - - [04/Nov/2024 12:09:52] \"GET /telemetry HTTP/1.1\" 200 -\n",
      "127.0.0.1 - - [04/Nov/2024 12:09:53] \"GET /telemetry HTTP/1.1\" 200 -\n",
      "127.0.0.1 - - [04/Nov/2024 12:09:54] \"GET /telemetry HTTP/1.1\" 200 -\n",
      "127.0.0.1 - - [04/Nov/2024 12:09:55] \"GET /telemetry HTTP/1.1\" 200 -\n",
      "127.0.0.1 - - [04/Nov/2024 12:09:56] \"GET /telemetry HTTP/1.1\" 200 -\n"
     ]
    },
    {
     "name": "stdout",
     "output_type": "stream",
     "text": [
      "Sending handshake...\n",
      "Packet sent to 127.0.0.1:9996\n",
      "Sending update...\n",
      "Packet sent to 127.0.0.1:9996\n",
      "Received buffer length: 328\n"
     ]
    },
    {
     "name": "stderr",
     "output_type": "stream",
     "text": [
      "127.0.0.1 - - [04/Nov/2024 12:09:57] \"GET /telemetry HTTP/1.1\" 200 -\n",
      "127.0.0.1 - - [04/Nov/2024 12:09:58] \"GET /telemetry HTTP/1.1\" 200 -\n",
      "127.0.0.1 - - [04/Nov/2024 12:09:59] \"GET /telemetry HTTP/1.1\" 200 -\n",
      "127.0.0.1 - - [04/Nov/2024 12:10:00] \"GET /telemetry HTTP/1.1\" 200 -\n",
      "127.0.0.1 - - [04/Nov/2024 12:10:01] \"GET /telemetry HTTP/1.1\" 200 -\n"
     ]
    },
    {
     "name": "stdout",
     "output_type": "stream",
     "text": [
      "Sending handshake...\n",
      "Packet sent to 127.0.0.1:9996\n",
      "Sending update...\n",
      "Packet sent to 127.0.0.1:9996\n",
      "Received buffer length: 328\n"
     ]
    },
    {
     "name": "stderr",
     "output_type": "stream",
     "text": [
      "127.0.0.1 - - [04/Nov/2024 12:10:02] \"GET /telemetry HTTP/1.1\" 200 -\n",
      "127.0.0.1 - - [04/Nov/2024 12:10:03] \"GET /telemetry HTTP/1.1\" 200 -\n",
      "127.0.0.1 - - [04/Nov/2024 12:10:04] \"GET /telemetry HTTP/1.1\" 200 -\n",
      "127.0.0.1 - - [04/Nov/2024 12:10:05] \"GET /telemetry HTTP/1.1\" 200 -\n",
      "127.0.0.1 - - [04/Nov/2024 12:10:06] \"GET /telemetry HTTP/1.1\" 200 -\n"
     ]
    },
    {
     "name": "stdout",
     "output_type": "stream",
     "text": [
      "Sending handshake...\n",
      "Packet sent to 127.0.0.1:9996\n",
      "Sending update...\n",
      "Packet sent to 127.0.0.1:9996\n",
      "Received buffer length: 328\n"
     ]
    },
    {
     "name": "stderr",
     "output_type": "stream",
     "text": [
      "127.0.0.1 - - [04/Nov/2024 12:10:07] \"GET /telemetry HTTP/1.1\" 200 -\n",
      "127.0.0.1 - - [04/Nov/2024 12:10:08] \"GET /telemetry HTTP/1.1\" 200 -\n",
      "127.0.0.1 - - [04/Nov/2024 12:10:09] \"GET /telemetry HTTP/1.1\" 200 -\n",
      "127.0.0.1 - - [04/Nov/2024 12:10:10] \"GET /telemetry HTTP/1.1\" 200 -\n",
      "127.0.0.1 - - [04/Nov/2024 12:10:11] \"GET /telemetry HTTP/1.1\" 200 -\n"
     ]
    },
    {
     "name": "stdout",
     "output_type": "stream",
     "text": [
      "Sending handshake...\n",
      "Packet sent to 127.0.0.1:9996\n",
      "Sending update...\n",
      "Packet sent to 127.0.0.1:9996\n",
      "Received buffer length: 328\n"
     ]
    },
    {
     "name": "stderr",
     "output_type": "stream",
     "text": [
      "127.0.0.1 - - [04/Nov/2024 12:10:12] \"GET /telemetry HTTP/1.1\" 200 -\n",
      "127.0.0.1 - - [04/Nov/2024 12:10:13] \"GET /telemetry HTTP/1.1\" 200 -\n",
      "127.0.0.1 - - [04/Nov/2024 12:10:14] \"GET /telemetry HTTP/1.1\" 200 -\n",
      "127.0.0.1 - - [04/Nov/2024 12:10:15] \"GET /telemetry HTTP/1.1\" 200 -\n",
      "127.0.0.1 - - [04/Nov/2024 12:10:16] \"GET /telemetry HTTP/1.1\" 200 -\n"
     ]
    },
    {
     "name": "stdout",
     "output_type": "stream",
     "text": [
      "Sending handshake...\n",
      "Packet sent to 127.0.0.1:9996\n",
      "Sending update...\n",
      "Packet sent to 127.0.0.1:9996\n",
      "Received buffer length: 328\n"
     ]
    },
    {
     "name": "stderr",
     "output_type": "stream",
     "text": [
      "127.0.0.1 - - [04/Nov/2024 12:10:17] \"GET /telemetry HTTP/1.1\" 200 -\n",
      "127.0.0.1 - - [04/Nov/2024 12:10:18] \"GET /telemetry HTTP/1.1\" 200 -\n",
      "127.0.0.1 - - [04/Nov/2024 12:10:19] \"GET /telemetry HTTP/1.1\" 200 -\n",
      "127.0.0.1 - - [04/Nov/2024 12:10:20] \"GET /telemetry HTTP/1.1\" 200 -\n",
      "127.0.0.1 - - [04/Nov/2024 12:10:21] \"GET /telemetry HTTP/1.1\" 200 -\n"
     ]
    },
    {
     "name": "stdout",
     "output_type": "stream",
     "text": [
      "Sending handshake...\n",
      "Packet sent to 127.0.0.1:9996\n",
      "Sending update...\n",
      "Packet sent to 127.0.0.1:9996\n",
      "Received buffer length: 328\n"
     ]
    },
    {
     "name": "stderr",
     "output_type": "stream",
     "text": [
      "127.0.0.1 - - [04/Nov/2024 12:10:22] \"GET /telemetry HTTP/1.1\" 200 -\n",
      "127.0.0.1 - - [04/Nov/2024 12:10:23] \"GET /telemetry HTTP/1.1\" 200 -\n",
      "127.0.0.1 - - [04/Nov/2024 12:10:24] \"GET /telemetry HTTP/1.1\" 200 -\n",
      "127.0.0.1 - - [04/Nov/2024 12:10:25] \"GET /telemetry HTTP/1.1\" 200 -\n",
      "127.0.0.1 - - [04/Nov/2024 12:10:26] \"GET /telemetry HTTP/1.1\" 200 -\n"
     ]
    },
    {
     "name": "stdout",
     "output_type": "stream",
     "text": [
      "Sending handshake...\n",
      "Packet sent to 127.0.0.1:9996\n",
      "Sending update...\n",
      "Packet sent to 127.0.0.1:9996\n",
      "Received buffer length: 328\n"
     ]
    },
    {
     "name": "stderr",
     "output_type": "stream",
     "text": [
      "127.0.0.1 - - [04/Nov/2024 12:10:27] \"GET /telemetry HTTP/1.1\" 200 -\n",
      "127.0.0.1 - - [04/Nov/2024 12:10:28] \"GET /telemetry HTTP/1.1\" 200 -\n",
      "127.0.0.1 - - [04/Nov/2024 12:10:29] \"GET /telemetry HTTP/1.1\" 200 -\n",
      "127.0.0.1 - - [04/Nov/2024 12:10:30] \"GET /telemetry HTTP/1.1\" 200 -\n",
      "127.0.0.1 - - [04/Nov/2024 12:10:31] \"GET /telemetry HTTP/1.1\" 200 -\n"
     ]
    },
    {
     "name": "stdout",
     "output_type": "stream",
     "text": [
      "Sending handshake...\n",
      "Packet sent to 127.0.0.1:9996\n",
      "Sending update...\n",
      "Packet sent to 127.0.0.1:9996\n",
      "Received buffer length: 328\n"
     ]
    },
    {
     "name": "stderr",
     "output_type": "stream",
     "text": [
      "127.0.0.1 - - [04/Nov/2024 12:10:32] \"GET /telemetry HTTP/1.1\" 200 -\n",
      "127.0.0.1 - - [04/Nov/2024 12:10:33] \"GET /telemetry HTTP/1.1\" 200 -\n",
      "127.0.0.1 - - [04/Nov/2024 12:10:34] \"GET /telemetry HTTP/1.1\" 200 -\n",
      "127.0.0.1 - - [04/Nov/2024 12:10:35] \"GET /telemetry HTTP/1.1\" 200 -\n",
      "127.0.0.1 - - [04/Nov/2024 12:10:36] \"GET /telemetry HTTP/1.1\" 200 -\n"
     ]
    },
    {
     "name": "stdout",
     "output_type": "stream",
     "text": [
      "Sending handshake...\n",
      "Packet sent to 127.0.0.1:9996\n",
      "Sending update...\n",
      "Packet sent to 127.0.0.1:9996\n",
      "Received buffer length: 328\n"
     ]
    },
    {
     "name": "stderr",
     "output_type": "stream",
     "text": [
      "127.0.0.1 - - [04/Nov/2024 12:10:37] \"GET /telemetry HTTP/1.1\" 200 -\n",
      "127.0.0.1 - - [04/Nov/2024 12:10:38] \"GET /telemetry HTTP/1.1\" 200 -\n",
      "127.0.0.1 - - [04/Nov/2024 12:10:39] \"GET /telemetry HTTP/1.1\" 200 -\n",
      "127.0.0.1 - - [04/Nov/2024 12:10:40] \"GET /telemetry HTTP/1.1\" 200 -\n",
      "127.0.0.1 - - [04/Nov/2024 12:10:41] \"GET /telemetry HTTP/1.1\" 200 -\n"
     ]
    },
    {
     "name": "stdout",
     "output_type": "stream",
     "text": [
      "Sending handshake...\n",
      "Packet sent to 127.0.0.1:9996\n",
      "Sending update...\n",
      "Packet sent to 127.0.0.1:9996\n",
      "Received buffer length: 328\n"
     ]
    },
    {
     "name": "stderr",
     "output_type": "stream",
     "text": [
      "127.0.0.1 - - [04/Nov/2024 12:10:42] \"GET /telemetry HTTP/1.1\" 200 -\n",
      "127.0.0.1 - - [04/Nov/2024 12:10:43] \"GET /telemetry HTTP/1.1\" 200 -\n",
      "127.0.0.1 - - [04/Nov/2024 12:10:44] \"GET /telemetry HTTP/1.1\" 200 -\n",
      "127.0.0.1 - - [04/Nov/2024 12:10:45] \"GET /telemetry HTTP/1.1\" 200 -\n",
      "127.0.0.1 - - [04/Nov/2024 12:10:46] \"GET /telemetry HTTP/1.1\" 200 -\n"
     ]
    },
    {
     "name": "stdout",
     "output_type": "stream",
     "text": [
      "Sending handshake...\n",
      "Packet sent to 127.0.0.1:9996\n",
      "Sending update...\n",
      "Packet sent to 127.0.0.1:9996\n",
      "Received buffer length: 328\n"
     ]
    },
    {
     "name": "stderr",
     "output_type": "stream",
     "text": [
      "127.0.0.1 - - [04/Nov/2024 12:10:47] \"GET /telemetry HTTP/1.1\" 200 -\n",
      "127.0.0.1 - - [04/Nov/2024 12:10:48] \"GET /telemetry HTTP/1.1\" 200 -\n",
      "127.0.0.1 - - [04/Nov/2024 12:10:49] \"GET /telemetry HTTP/1.1\" 200 -\n",
      "127.0.0.1 - - [04/Nov/2024 12:10:50] \"GET /telemetry HTTP/1.1\" 200 -\n",
      "127.0.0.1 - - [04/Nov/2024 12:10:51] \"GET /telemetry HTTP/1.1\" 200 -\n"
     ]
    },
    {
     "name": "stdout",
     "output_type": "stream",
     "text": [
      "Sending handshake...\n",
      "Packet sent to 127.0.0.1:9996\n",
      "Sending update...\n",
      "Packet sent to 127.0.0.1:9996\n",
      "Received buffer length: 328\n"
     ]
    },
    {
     "name": "stderr",
     "output_type": "stream",
     "text": [
      "127.0.0.1 - - [04/Nov/2024 12:10:52] \"GET /telemetry HTTP/1.1\" 200 -\n",
      "127.0.0.1 - - [04/Nov/2024 12:10:53] \"GET /telemetry HTTP/1.1\" 200 -\n",
      "127.0.0.1 - - [04/Nov/2024 12:10:55] \"GET /telemetry HTTP/1.1\" 200 -\n",
      "127.0.0.1 - - [04/Nov/2024 12:10:56] \"GET /telemetry HTTP/1.1\" 200 -\n"
     ]
    },
    {
     "name": "stdout",
     "output_type": "stream",
     "text": [
      "Sending handshake...\n",
      "Packet sent to 127.0.0.1:9996\n",
      "Sending update...\n",
      "Packet sent to 127.0.0.1:9996\n",
      "Received buffer length: 328\n"
     ]
    },
    {
     "name": "stderr",
     "output_type": "stream",
     "text": [
      "127.0.0.1 - - [04/Nov/2024 12:10:57] \"GET /telemetry HTTP/1.1\" 200 -\n",
      "127.0.0.1 - - [04/Nov/2024 12:10:58] \"GET /telemetry HTTP/1.1\" 200 -\n",
      "127.0.0.1 - - [04/Nov/2024 12:10:59] \"GET /telemetry HTTP/1.1\" 200 -\n",
      "127.0.0.1 - - [04/Nov/2024 12:11:00] \"GET /telemetry HTTP/1.1\" 200 -\n",
      "127.0.0.1 - - [04/Nov/2024 12:11:01] \"GET /telemetry HTTP/1.1\" 200 -\n"
     ]
    },
    {
     "name": "stdout",
     "output_type": "stream",
     "text": [
      "Sending handshake...\n",
      "Packet sent to 127.0.0.1:9996\n",
      "Sending update...\n",
      "Packet sent to 127.0.0.1:9996\n",
      "Received buffer length: 328\n"
     ]
    },
    {
     "name": "stderr",
     "output_type": "stream",
     "text": [
      "127.0.0.1 - - [04/Nov/2024 12:11:02] \"GET /telemetry HTTP/1.1\" 200 -\n",
      "127.0.0.1 - - [04/Nov/2024 12:11:03] \"GET /telemetry HTTP/1.1\" 200 -\n",
      "127.0.0.1 - - [04/Nov/2024 12:11:04] \"GET /telemetry HTTP/1.1\" 200 -\n",
      "127.0.0.1 - - [04/Nov/2024 12:11:05] \"GET /telemetry HTTP/1.1\" 200 -\n",
      "127.0.0.1 - - [04/Nov/2024 12:11:06] \"GET /telemetry HTTP/1.1\" 200 -\n"
     ]
    },
    {
     "name": "stdout",
     "output_type": "stream",
     "text": [
      "Sending handshake...\n",
      "Packet sent to 127.0.0.1:9996\n",
      "Sending update...\n",
      "Packet sent to 127.0.0.1:9996\n",
      "Received buffer length: 328\n"
     ]
    },
    {
     "name": "stderr",
     "output_type": "stream",
     "text": [
      "127.0.0.1 - - [04/Nov/2024 12:11:07] \"GET /telemetry HTTP/1.1\" 200 -\n",
      "127.0.0.1 - - [04/Nov/2024 12:11:08] \"GET /telemetry HTTP/1.1\" 200 -\n",
      "127.0.0.1 - - [04/Nov/2024 12:11:09] \"GET /telemetry HTTP/1.1\" 200 -\n",
      "127.0.0.1 - - [04/Nov/2024 12:11:10] \"GET /telemetry HTTP/1.1\" 200 -\n",
      "127.0.0.1 - - [04/Nov/2024 12:11:11] \"GET /telemetry HTTP/1.1\" 200 -\n"
     ]
    },
    {
     "name": "stdout",
     "output_type": "stream",
     "text": [
      "Sending handshake...\n",
      "Packet sent to 127.0.0.1:9996\n",
      "Sending update...\n",
      "Packet sent to 127.0.0.1:9996\n",
      "Received buffer length: 328\n"
     ]
    },
    {
     "name": "stderr",
     "output_type": "stream",
     "text": [
      "127.0.0.1 - - [04/Nov/2024 12:11:12] \"GET /telemetry HTTP/1.1\" 200 -\n",
      "127.0.0.1 - - [04/Nov/2024 12:11:13] \"GET /telemetry HTTP/1.1\" 200 -\n",
      "127.0.0.1 - - [04/Nov/2024 12:11:14] \"GET /telemetry HTTP/1.1\" 200 -\n",
      "127.0.0.1 - - [04/Nov/2024 12:11:15] \"GET /telemetry HTTP/1.1\" 200 -\n",
      "127.0.0.1 - - [04/Nov/2024 12:11:16] \"GET /telemetry HTTP/1.1\" 200 -\n"
     ]
    },
    {
     "name": "stdout",
     "output_type": "stream",
     "text": [
      "Sending handshake...\n",
      "Packet sent to 127.0.0.1:9996\n",
      "Sending update...\n",
      "Packet sent to 127.0.0.1:9996\n",
      "Received buffer length: 328\n"
     ]
    },
    {
     "name": "stderr",
     "output_type": "stream",
     "text": [
      "127.0.0.1 - - [04/Nov/2024 12:11:17] \"GET /telemetry HTTP/1.1\" 200 -\n",
      "127.0.0.1 - - [04/Nov/2024 12:11:18] \"GET /telemetry HTTP/1.1\" 200 -\n",
      "127.0.0.1 - - [04/Nov/2024 12:11:19] \"GET /telemetry HTTP/1.1\" 200 -\n",
      "127.0.0.1 - - [04/Nov/2024 12:11:20] \"GET /telemetry HTTP/1.1\" 200 -\n",
      "127.0.0.1 - - [04/Nov/2024 12:11:21] \"GET /telemetry HTTP/1.1\" 200 -\n"
     ]
    },
    {
     "name": "stdout",
     "output_type": "stream",
     "text": [
      "Sending handshake...\n",
      "Packet sent to 127.0.0.1:9996\n",
      "Sending update...\n",
      "Packet sent to 127.0.0.1:9996\n",
      "Received buffer length: 328\n"
     ]
    },
    {
     "name": "stderr",
     "output_type": "stream",
     "text": [
      "127.0.0.1 - - [04/Nov/2024 12:11:22] \"GET /telemetry HTTP/1.1\" 200 -\n",
      "127.0.0.1 - - [04/Nov/2024 12:11:23] \"GET /telemetry HTTP/1.1\" 200 -\n",
      "127.0.0.1 - - [04/Nov/2024 12:11:24] \"GET /telemetry HTTP/1.1\" 200 -\n",
      "127.0.0.1 - - [04/Nov/2024 12:11:25] \"GET /telemetry HTTP/1.1\" 200 -\n",
      "127.0.0.1 - - [04/Nov/2024 12:11:26] \"GET /telemetry HTTP/1.1\" 200 -\n"
     ]
    },
    {
     "name": "stdout",
     "output_type": "stream",
     "text": [
      "Sending handshake...\n",
      "Packet sent to 127.0.0.1:9996\n",
      "Sending update...\n",
      "Packet sent to 127.0.0.1:9996\n",
      "Received buffer length: 328\n"
     ]
    },
    {
     "name": "stderr",
     "output_type": "stream",
     "text": [
      "127.0.0.1 - - [04/Nov/2024 12:11:27] \"GET /telemetry HTTP/1.1\" 200 -\n",
      "127.0.0.1 - - [04/Nov/2024 12:11:28] \"GET /telemetry HTTP/1.1\" 200 -\n",
      "127.0.0.1 - - [04/Nov/2024 12:11:29] \"GET /telemetry HTTP/1.1\" 200 -\n",
      "127.0.0.1 - - [04/Nov/2024 12:11:30] \"GET /telemetry HTTP/1.1\" 200 -\n",
      "127.0.0.1 - - [04/Nov/2024 12:11:31] \"GET /telemetry HTTP/1.1\" 200 -\n"
     ]
    },
    {
     "name": "stdout",
     "output_type": "stream",
     "text": [
      "Sending handshake...\n",
      "Packet sent to 127.0.0.1:9996\n",
      "Sending update...\n",
      "Packet sent to 127.0.0.1:9996\n",
      "Received buffer length: 328\n"
     ]
    },
    {
     "name": "stderr",
     "output_type": "stream",
     "text": [
      "127.0.0.1 - - [04/Nov/2024 12:11:33] \"GET /telemetry HTTP/1.1\" 200 -\n",
      "127.0.0.1 - - [04/Nov/2024 12:11:34] \"GET /telemetry HTTP/1.1\" 200 -\n",
      "127.0.0.1 - - [04/Nov/2024 12:11:35] \"GET /telemetry HTTP/1.1\" 200 -\n",
      "127.0.0.1 - - [04/Nov/2024 12:11:36] \"GET /telemetry HTTP/1.1\" 200 -\n"
     ]
    },
    {
     "name": "stdout",
     "output_type": "stream",
     "text": [
      "Sending handshake...\n",
      "Packet sent to 127.0.0.1:9996\n",
      "Sending update...\n",
      "Packet sent to 127.0.0.1:9996\n",
      "Received buffer length: 328\n"
     ]
    },
    {
     "name": "stderr",
     "output_type": "stream",
     "text": [
      "127.0.0.1 - - [04/Nov/2024 12:11:37] \"GET /telemetry HTTP/1.1\" 200 -\n",
      "127.0.0.1 - - [04/Nov/2024 12:11:38] \"GET /telemetry HTTP/1.1\" 200 -\n",
      "127.0.0.1 - - [04/Nov/2024 12:11:39] \"GET /telemetry HTTP/1.1\" 200 -\n",
      "127.0.0.1 - - [04/Nov/2024 12:11:40] \"GET /telemetry HTTP/1.1\" 200 -\n",
      "127.0.0.1 - - [04/Nov/2024 12:11:41] \"GET /telemetry HTTP/1.1\" 200 -\n"
     ]
    },
    {
     "name": "stdout",
     "output_type": "stream",
     "text": [
      "Sending handshake...\n",
      "Packet sent to 127.0.0.1:9996\n",
      "Sending update...\n",
      "Packet sent to 127.0.0.1:9996\n",
      "Received buffer length: 328\n"
     ]
    },
    {
     "name": "stderr",
     "output_type": "stream",
     "text": [
      "127.0.0.1 - - [04/Nov/2024 12:11:42] \"GET /telemetry HTTP/1.1\" 200 -\n",
      "127.0.0.1 - - [04/Nov/2024 12:11:43] \"GET /telemetry HTTP/1.1\" 200 -\n",
      "127.0.0.1 - - [04/Nov/2024 12:11:44] \"GET /telemetry HTTP/1.1\" 200 -\n",
      "127.0.0.1 - - [04/Nov/2024 12:11:45] \"GET /telemetry HTTP/1.1\" 200 -\n",
      "127.0.0.1 - - [04/Nov/2024 12:11:46] \"GET /telemetry HTTP/1.1\" 200 -\n"
     ]
    },
    {
     "name": "stdout",
     "output_type": "stream",
     "text": [
      "Sending handshake...\n",
      "Packet sent to 127.0.0.1:9996\n",
      "Sending update...\n",
      "Packet sent to 127.0.0.1:9996\n",
      "Error receiving data: [WinError 10054] Eine vorhandene Verbindung wurde vom Remotehost geschlossen\n"
     ]
    },
    {
     "name": "stderr",
     "output_type": "stream",
     "text": [
      "127.0.0.1 - - [04/Nov/2024 12:11:47] \"GET /telemetry HTTP/1.1\" 200 -\n",
      "127.0.0.1 - - [04/Nov/2024 12:11:48] \"GET /telemetry HTTP/1.1\" 200 -\n",
      "127.0.0.1 - - [04/Nov/2024 12:11:49] \"GET /telemetry HTTP/1.1\" 200 -\n",
      "127.0.0.1 - - [04/Nov/2024 12:11:50] \"GET /telemetry HTTP/1.1\" 200 -\n",
      "127.0.0.1 - - [04/Nov/2024 12:11:51] \"GET /telemetry HTTP/1.1\" 200 -\n"
     ]
    },
    {
     "name": "stdout",
     "output_type": "stream",
     "text": [
      "Sending handshake...\n",
      "Packet sent to 127.0.0.1:9996\n",
      "Sending update...\n",
      "Packet sent to 127.0.0.1:9996\n",
      "Error receiving data: [WinError 10054] Eine vorhandene Verbindung wurde vom Remotehost geschlossen\n"
     ]
    },
    {
     "name": "stderr",
     "output_type": "stream",
     "text": [
      "127.0.0.1 - - [04/Nov/2024 12:11:52] \"GET /telemetry HTTP/1.1\" 200 -\n",
      "127.0.0.1 - - [04/Nov/2024 12:11:53] \"GET /telemetry HTTP/1.1\" 200 -\n",
      "127.0.0.1 - - [04/Nov/2024 12:11:54] \"GET /telemetry HTTP/1.1\" 200 -\n",
      "127.0.0.1 - - [04/Nov/2024 12:11:55] \"GET /telemetry HTTP/1.1\" 200 -\n",
      "127.0.0.1 - - [04/Nov/2024 12:11:56] \"GET /telemetry HTTP/1.1\" 200 -\n"
     ]
    },
    {
     "name": "stdout",
     "output_type": "stream",
     "text": [
      "Sending handshake...\n",
      "Packet sent to 127.0.0.1:9996\n",
      "Sending update...\n",
      "Packet sent to 127.0.0.1:9996\n",
      "Error receiving data: [WinError 10054] Eine vorhandene Verbindung wurde vom Remotehost geschlossen\n"
     ]
    },
    {
     "name": "stderr",
     "output_type": "stream",
     "text": [
      "127.0.0.1 - - [04/Nov/2024 12:11:57] \"GET /telemetry HTTP/1.1\" 200 -\n",
      "127.0.0.1 - - [04/Nov/2024 12:11:58] \"GET /telemetry HTTP/1.1\" 200 -\n",
      "127.0.0.1 - - [04/Nov/2024 12:11:59] \"GET /telemetry HTTP/1.1\" 200 -\n",
      "127.0.0.1 - - [04/Nov/2024 12:12:00] \"GET /telemetry HTTP/1.1\" 200 -\n",
      "127.0.0.1 - - [04/Nov/2024 12:12:01] \"GET /telemetry HTTP/1.1\" 200 -\n"
     ]
    },
    {
     "name": "stdout",
     "output_type": "stream",
     "text": [
      "Sending handshake...\n",
      "Packet sent to 127.0.0.1:9996\n",
      "Sending update...\n",
      "Packet sent to 127.0.0.1:9996\n",
      "Error receiving data: [WinError 10054] Eine vorhandene Verbindung wurde vom Remotehost geschlossen\n"
     ]
    },
    {
     "name": "stderr",
     "output_type": "stream",
     "text": [
      "127.0.0.1 - - [04/Nov/2024 12:12:02] \"GET /telemetry HTTP/1.1\" 200 -\n",
      "127.0.0.1 - - [04/Nov/2024 12:12:03] \"GET /telemetry HTTP/1.1\" 200 -\n",
      "127.0.0.1 - - [04/Nov/2024 12:12:04] \"GET /telemetry HTTP/1.1\" 200 -\n",
      "127.0.0.1 - - [04/Nov/2024 12:12:05] \"GET /telemetry HTTP/1.1\" 200 -\n",
      "127.0.0.1 - - [04/Nov/2024 12:12:06] \"GET /telemetry HTTP/1.1\" 200 -\n"
     ]
    },
    {
     "name": "stdout",
     "output_type": "stream",
     "text": [
      "Sending handshake...\n",
      "Packet sent to 127.0.0.1:9996\n",
      "Sending update...\n",
      "Packet sent to 127.0.0.1:9996\n",
      "Error receiving data: [WinError 10054] Eine vorhandene Verbindung wurde vom Remotehost geschlossen\n"
     ]
    },
    {
     "name": "stderr",
     "output_type": "stream",
     "text": [
      "127.0.0.1 - - [04/Nov/2024 12:12:07] \"GET /telemetry HTTP/1.1\" 200 -\n",
      "127.0.0.1 - - [04/Nov/2024 12:12:08] \"GET /telemetry HTTP/1.1\" 200 -\n",
      "127.0.0.1 - - [04/Nov/2024 12:12:09] \"GET /telemetry HTTP/1.1\" 200 -\n",
      "127.0.0.1 - - [04/Nov/2024 12:12:10] \"GET /telemetry HTTP/1.1\" 200 -\n",
      "127.0.0.1 - - [04/Nov/2024 12:12:11] \"GET /telemetry HTTP/1.1\" 200 -\n"
     ]
    },
    {
     "name": "stdout",
     "output_type": "stream",
     "text": [
      "Sending handshake...\n",
      "Packet sent to 127.0.0.1:9996\n",
      "Sending update...\n",
      "Packet sent to 127.0.0.1:9996\n",
      "Error receiving data: [WinError 10054] Eine vorhandene Verbindung wurde vom Remotehost geschlossen\n"
     ]
    },
    {
     "name": "stderr",
     "output_type": "stream",
     "text": [
      "127.0.0.1 - - [04/Nov/2024 12:12:12] \"GET /telemetry HTTP/1.1\" 200 -\n",
      "127.0.0.1 - - [04/Nov/2024 12:12:13] \"GET /telemetry HTTP/1.1\" 200 -\n",
      "127.0.0.1 - - [04/Nov/2024 12:12:14] \"GET /telemetry HTTP/1.1\" 200 -\n",
      "127.0.0.1 - - [04/Nov/2024 12:12:15] \"GET /telemetry HTTP/1.1\" 200 -\n",
      "127.0.0.1 - - [04/Nov/2024 12:12:16] \"GET /telemetry HTTP/1.1\" 200 -\n"
     ]
    },
    {
     "name": "stdout",
     "output_type": "stream",
     "text": [
      "Sending handshake...\n",
      "Packet sent to 127.0.0.1:9996\n",
      "Sending update...\n",
      "Packet sent to 127.0.0.1:9996\n",
      "Error receiving data: [WinError 10054] Eine vorhandene Verbindung wurde vom Remotehost geschlossen\n"
     ]
    },
    {
     "name": "stderr",
     "output_type": "stream",
     "text": [
      "127.0.0.1 - - [04/Nov/2024 12:12:17] \"GET /telemetry HTTP/1.1\" 200 -\n",
      "127.0.0.1 - - [04/Nov/2024 12:12:18] \"GET /telemetry HTTP/1.1\" 200 -\n",
      "127.0.0.1 - - [04/Nov/2024 12:12:19] \"GET /telemetry HTTP/1.1\" 200 -\n",
      "127.0.0.1 - - [04/Nov/2024 12:12:20] \"GET /telemetry HTTP/1.1\" 200 -\n"
     ]
    },
    {
     "name": "stdout",
     "output_type": "stream",
     "text": [
      "Sending handshake...\n",
      "Packet sent to 127.0.0.1:9996\n",
      "Sending update...\n",
      "Packet sent to 127.0.0.1:9996\n",
      "Error receiving data: [WinError 10054] Eine vorhandene Verbindung wurde vom Remotehost geschlossen\n"
     ]
    },
    {
     "name": "stderr",
     "output_type": "stream",
     "text": [
      "127.0.0.1 - - [04/Nov/2024 12:12:22] \"GET /telemetry HTTP/1.1\" 200 -\n",
      "127.0.0.1 - - [04/Nov/2024 12:12:22] \"GET /telemetry HTTP/1.1\" 200 -\n",
      "127.0.0.1 - - [04/Nov/2024 12:12:24] \"GET /telemetry HTTP/1.1\" 200 -\n",
      "127.0.0.1 - - [04/Nov/2024 12:12:24] \"GET /telemetry HTTP/1.1\" 200 -\n",
      "127.0.0.1 - - [04/Nov/2024 12:12:26] \"GET /telemetry HTTP/1.1\" 200 -\n",
      "127.0.0.1 - - [04/Nov/2024 12:12:26] \"GET /telemetry HTTP/1.1\" 200 -\n"
     ]
    },
    {
     "name": "stdout",
     "output_type": "stream",
     "text": [
      "Sending handshake...\n",
      "Packet sent to 127.0.0.1:9996\n",
      "Sending update...\n",
      "Packet sent to 127.0.0.1:9996\n",
      "Error receiving data: [WinError 10054] Eine vorhandene Verbindung wurde vom Remotehost geschlossen\n"
     ]
    },
    {
     "name": "stderr",
     "output_type": "stream",
     "text": [
      "127.0.0.1 - - [04/Nov/2024 12:12:28] \"GET /telemetry HTTP/1.1\" 200 -\n",
      "127.0.0.1 - - [04/Nov/2024 12:12:28] \"GET /telemetry HTTP/1.1\" 200 -\n",
      "127.0.0.1 - - [04/Nov/2024 12:12:30] \"GET /telemetry HTTP/1.1\" 200 -\n",
      "127.0.0.1 - - [04/Nov/2024 12:12:30] \"GET /telemetry HTTP/1.1\" 200 -\n"
     ]
    },
    {
     "name": "stdout",
     "output_type": "stream",
     "text": [
      "Sending handshake...\n",
      "Packet sent to 127.0.0.1:9996\n",
      "Sending update...\n",
      "Packet sent to 127.0.0.1:9996\n",
      "Error receiving data: [WinError 10054] Eine vorhandene Verbindung wurde vom Remotehost geschlossen\n"
     ]
    },
    {
     "name": "stderr",
     "output_type": "stream",
     "text": [
      "127.0.0.1 - - [04/Nov/2024 12:12:32] \"GET /telemetry HTTP/1.1\" 200 -\n",
      "127.0.0.1 - - [04/Nov/2024 12:12:32] \"GET /telemetry HTTP/1.1\" 200 -\n",
      "127.0.0.1 - - [04/Nov/2024 12:12:34] \"GET /telemetry HTTP/1.1\" 200 -\n",
      "127.0.0.1 - - [04/Nov/2024 12:12:34] \"GET /telemetry HTTP/1.1\" 200 -\n",
      "127.0.0.1 - - [04/Nov/2024 12:12:36] \"GET /telemetry HTTP/1.1\" 200 -\n",
      "127.0.0.1 - - [04/Nov/2024 12:12:36] \"GET /telemetry HTTP/1.1\" 200 -\n"
     ]
    },
    {
     "name": "stdout",
     "output_type": "stream",
     "text": [
      "Sending handshake...\n",
      "Packet sent to 127.0.0.1:9996\n",
      "Sending update...\n",
      "Packet sent to 127.0.0.1:9996\n",
      "Received buffer length: 408\n"
     ]
    },
    {
     "name": "stderr",
     "output_type": "stream",
     "text": [
      "127.0.0.1 - - [04/Nov/2024 12:12:38] \"GET /telemetry HTTP/1.1\" 200 -\n",
      "127.0.0.1 - - [04/Nov/2024 12:12:38] \"GET /telemetry HTTP/1.1\" 200 -\n",
      "127.0.0.1 - - [04/Nov/2024 12:12:40] \"GET /telemetry HTTP/1.1\" 200 -\n",
      "127.0.0.1 - - [04/Nov/2024 12:12:40] \"GET /telemetry HTTP/1.1\" 200 -\n"
     ]
    },
    {
     "name": "stdout",
     "output_type": "stream",
     "text": [
      "Sending handshake...\n",
      "Packet sent to 127.0.0.1:9996\n",
      "Sending update...\n",
      "Packet sent to 127.0.0.1:9996\n",
      "Received buffer length: 328\n"
     ]
    },
    {
     "name": "stderr",
     "output_type": "stream",
     "text": [
      "127.0.0.1 - - [04/Nov/2024 12:12:42] \"GET /telemetry HTTP/1.1\" 200 -\n",
      "127.0.0.1 - - [04/Nov/2024 12:12:42] \"GET /telemetry HTTP/1.1\" 200 -\n",
      "127.0.0.1 - - [04/Nov/2024 12:12:44] \"GET /telemetry HTTP/1.1\" 200 -\n",
      "127.0.0.1 - - [04/Nov/2024 12:12:44] \"GET /telemetry HTTP/1.1\" 200 -\n",
      "127.0.0.1 - - [04/Nov/2024 12:12:46] \"GET /telemetry HTTP/1.1\" 200 -\n",
      "127.0.0.1 - - [04/Nov/2024 12:12:46] \"GET /telemetry HTTP/1.1\" 200 -\n"
     ]
    },
    {
     "name": "stdout",
     "output_type": "stream",
     "text": [
      "Sending handshake...\n",
      "Packet sent to 127.0.0.1:9996\n",
      "Sending update...\n",
      "Packet sent to 127.0.0.1:9996\n",
      "Received buffer length: 328\n"
     ]
    },
    {
     "name": "stderr",
     "output_type": "stream",
     "text": [
      "127.0.0.1 - - [04/Nov/2024 12:12:48] \"GET /telemetry HTTP/1.1\" 200 -\n",
      "127.0.0.1 - - [04/Nov/2024 12:12:48] \"GET /telemetry HTTP/1.1\" 200 -\n",
      "127.0.0.1 - - [04/Nov/2024 12:12:50] \"GET /telemetry HTTP/1.1\" 200 -\n",
      "127.0.0.1 - - [04/Nov/2024 12:12:50] \"GET /telemetry HTTP/1.1\" 200 -\n"
     ]
    },
    {
     "name": "stdout",
     "output_type": "stream",
     "text": [
      "Sending handshake...\n",
      "Packet sent to 127.0.0.1:9996\n",
      "Sending update...\n",
      "Packet sent to 127.0.0.1:9996\n",
      "Received buffer length: 328\n"
     ]
    },
    {
     "name": "stderr",
     "output_type": "stream",
     "text": [
      "127.0.0.1 - - [04/Nov/2024 12:12:52] \"GET /telemetry HTTP/1.1\" 200 -\n",
      "127.0.0.1 - - [04/Nov/2024 12:12:52] \"GET /telemetry HTTP/1.1\" 200 -\n",
      "127.0.0.1 - - [04/Nov/2024 12:12:54] \"GET /telemetry HTTP/1.1\" 200 -\n",
      "127.0.0.1 - - [04/Nov/2024 12:12:54] \"GET /telemetry HTTP/1.1\" 200 -\n",
      "127.0.0.1 - - [04/Nov/2024 12:12:56] \"GET /telemetry HTTP/1.1\" 200 -\n",
      "127.0.0.1 - - [04/Nov/2024 12:12:56] \"GET /telemetry HTTP/1.1\" 200 -\n"
     ]
    },
    {
     "name": "stdout",
     "output_type": "stream",
     "text": [
      "Sending handshake...\n",
      "Packet sent to 127.0.0.1:9996\n",
      "Sending update...\n",
      "Packet sent to 127.0.0.1:9996\n",
      "Received buffer length: 328\n"
     ]
    },
    {
     "name": "stderr",
     "output_type": "stream",
     "text": [
      "127.0.0.1 - - [04/Nov/2024 12:12:58] \"GET /telemetry HTTP/1.1\" 200 -\n",
      "127.0.0.1 - - [04/Nov/2024 12:12:58] \"GET /telemetry HTTP/1.1\" 200 -\n",
      "127.0.0.1 - - [04/Nov/2024 12:13:00] \"GET /telemetry HTTP/1.1\" 200 -\n",
      "127.0.0.1 - - [04/Nov/2024 12:13:00] \"GET /telemetry HTTP/1.1\" 200 -\n"
     ]
    },
    {
     "name": "stdout",
     "output_type": "stream",
     "text": [
      "Sending handshake...\n",
      "Packet sent to 127.0.0.1:9996\n",
      "Sending update...\n",
      "Packet sent to 127.0.0.1:9996\n",
      "Received buffer length: 328\n"
     ]
    },
    {
     "name": "stderr",
     "output_type": "stream",
     "text": [
      "127.0.0.1 - - [04/Nov/2024 12:13:02] \"GET /telemetry HTTP/1.1\" 200 -\n",
      "127.0.0.1 - - [04/Nov/2024 12:13:02] \"GET /telemetry HTTP/1.1\" 200 -\n",
      "127.0.0.1 - - [04/Nov/2024 12:13:04] \"GET /telemetry HTTP/1.1\" 200 -\n",
      "127.0.0.1 - - [04/Nov/2024 12:13:04] \"GET /telemetry HTTP/1.1\" 200 -\n",
      "127.0.0.1 - - [04/Nov/2024 12:13:06] \"GET /telemetry HTTP/1.1\" 200 -\n",
      "127.0.0.1 - - [04/Nov/2024 12:13:06] \"GET /telemetry HTTP/1.1\" 200 -\n"
     ]
    },
    {
     "name": "stdout",
     "output_type": "stream",
     "text": [
      "Sending handshake...\n",
      "Packet sent to 127.0.0.1:9996\n",
      "Sending update...\n",
      "Packet sent to 127.0.0.1:9996\n",
      "Received buffer length: 328\n"
     ]
    },
    {
     "name": "stderr",
     "output_type": "stream",
     "text": [
      "127.0.0.1 - - [04/Nov/2024 12:13:08] \"GET /telemetry HTTP/1.1\" 200 -\n",
      "127.0.0.1 - - [04/Nov/2024 12:13:08] \"GET /telemetry HTTP/1.1\" 200 -\n",
      "127.0.0.1 - - [04/Nov/2024 12:13:10] \"GET /telemetry HTTP/1.1\" 200 -\n",
      "127.0.0.1 - - [04/Nov/2024 12:13:10] \"GET /telemetry HTTP/1.1\" 200 -\n"
     ]
    },
    {
     "name": "stdout",
     "output_type": "stream",
     "text": [
      "Sending handshake...\n",
      "Packet sent to 127.0.0.1:9996\n",
      "Sending update...\n",
      "Packet sent to 127.0.0.1:9996\n",
      "Received buffer length: 328\n"
     ]
    },
    {
     "name": "stderr",
     "output_type": "stream",
     "text": [
      "127.0.0.1 - - [04/Nov/2024 12:13:12] \"GET /telemetry HTTP/1.1\" 200 -\n",
      "127.0.0.1 - - [04/Nov/2024 12:13:12] \"GET /telemetry HTTP/1.1\" 200 -\n",
      "127.0.0.1 - - [04/Nov/2024 12:13:14] \"GET /telemetry HTTP/1.1\" 200 -\n",
      "127.0.0.1 - - [04/Nov/2024 12:13:14] \"GET /telemetry HTTP/1.1\" 200 -\n",
      "127.0.0.1 - - [04/Nov/2024 12:13:16] \"GET /telemetry HTTP/1.1\" 200 -\n",
      "127.0.0.1 - - [04/Nov/2024 12:13:16] \"GET /telemetry HTTP/1.1\" 200 -\n"
     ]
    },
    {
     "name": "stdout",
     "output_type": "stream",
     "text": [
      "Sending handshake...\n",
      "Packet sent to 127.0.0.1:9996\n",
      "Sending update...\n",
      "Packet sent to 127.0.0.1:9996\n",
      "Received buffer length: 408\n"
     ]
    },
    {
     "name": "stderr",
     "output_type": "stream",
     "text": [
      "127.0.0.1 - - [04/Nov/2024 12:13:18] \"GET /telemetry HTTP/1.1\" 200 -\n",
      "127.0.0.1 - - [04/Nov/2024 12:13:18] \"GET /telemetry HTTP/1.1\" 200 -\n",
      "127.0.0.1 - - [04/Nov/2024 12:13:20] \"GET /telemetry HTTP/1.1\" 200 -\n",
      "127.0.0.1 - - [04/Nov/2024 12:13:20] \"GET /telemetry HTTP/1.1\" 200 -\n"
     ]
    },
    {
     "name": "stdout",
     "output_type": "stream",
     "text": [
      "Sending handshake...\n",
      "Packet sent to 127.0.0.1:9996\n",
      "Sending update...\n",
      "Packet sent to 127.0.0.1:9996\n",
      "Received buffer length: 408\n"
     ]
    },
    {
     "name": "stderr",
     "output_type": "stream",
     "text": [
      "127.0.0.1 - - [04/Nov/2024 12:13:22] \"GET /telemetry HTTP/1.1\" 200 -\n",
      "127.0.0.1 - - [04/Nov/2024 12:13:22] \"GET /telemetry HTTP/1.1\" 200 -\n",
      "127.0.0.1 - - [04/Nov/2024 12:13:24] \"GET /telemetry HTTP/1.1\" 200 -\n",
      "127.0.0.1 - - [04/Nov/2024 12:13:24] \"GET /telemetry HTTP/1.1\" 200 -\n",
      "127.0.0.1 - - [04/Nov/2024 12:13:26] \"GET /telemetry HTTP/1.1\" 200 -\n",
      "127.0.0.1 - - [04/Nov/2024 12:13:26] \"GET /telemetry HTTP/1.1\" 200 -\n"
     ]
    },
    {
     "name": "stdout",
     "output_type": "stream",
     "text": [
      "Sending handshake...\n",
      "Packet sent to 127.0.0.1:9996\n",
      "Sending update...\n",
      "Packet sent to 127.0.0.1:9996\n",
      "Received buffer length: 408\n"
     ]
    },
    {
     "name": "stderr",
     "output_type": "stream",
     "text": [
      "127.0.0.1 - - [04/Nov/2024 12:13:28] \"GET /telemetry HTTP/1.1\" 200 -\n",
      "127.0.0.1 - - [04/Nov/2024 12:13:28] \"GET /telemetry HTTP/1.1\" 200 -\n",
      "127.0.0.1 - - [04/Nov/2024 12:13:30] \"GET /telemetry HTTP/1.1\" 200 -\n",
      "127.0.0.1 - - [04/Nov/2024 12:13:30] \"GET /telemetry HTTP/1.1\" 200 -\n"
     ]
    },
    {
     "name": "stdout",
     "output_type": "stream",
     "text": [
      "Sending handshake...\n",
      "Packet sent to 127.0.0.1:9996\n",
      "Sending update...\n",
      "Packet sent to 127.0.0.1:9996\n",
      "Received buffer length: 408\n"
     ]
    },
    {
     "name": "stderr",
     "output_type": "stream",
     "text": [
      "127.0.0.1 - - [04/Nov/2024 12:13:32] \"GET /telemetry HTTP/1.1\" 200 -\n",
      "127.0.0.1 - - [04/Nov/2024 12:13:32] \"GET /telemetry HTTP/1.1\" 200 -\n",
      "127.0.0.1 - - [04/Nov/2024 12:13:34] \"GET /telemetry HTTP/1.1\" 200 -\n",
      "127.0.0.1 - - [04/Nov/2024 12:13:34] \"GET /telemetry HTTP/1.1\" 200 -\n",
      "127.0.0.1 - - [04/Nov/2024 12:13:36] \"GET /telemetry HTTP/1.1\" 200 -\n",
      "127.0.0.1 - - [04/Nov/2024 12:13:36] \"GET /telemetry HTTP/1.1\" 200 -\n"
     ]
    },
    {
     "name": "stdout",
     "output_type": "stream",
     "text": [
      "Sending handshake...\n",
      "Packet sent to 127.0.0.1:9996\n",
      "Sending update...\n",
      "Packet sent to 127.0.0.1:9996\n",
      "Received buffer length: 408\n"
     ]
    },
    {
     "name": "stderr",
     "output_type": "stream",
     "text": [
      "127.0.0.1 - - [04/Nov/2024 12:13:38] \"GET /telemetry HTTP/1.1\" 200 -\n",
      "127.0.0.1 - - [04/Nov/2024 12:13:38] \"GET /telemetry HTTP/1.1\" 200 -\n",
      "127.0.0.1 - - [04/Nov/2024 12:13:40] \"GET /telemetry HTTP/1.1\" 200 -\n",
      "127.0.0.1 - - [04/Nov/2024 12:13:40] \"GET /telemetry HTTP/1.1\" 200 -\n"
     ]
    },
    {
     "name": "stdout",
     "output_type": "stream",
     "text": [
      "Sending handshake...\n",
      "Packet sent to 127.0.0.1:9996\n",
      "Sending update...\n",
      "Packet sent to 127.0.0.1:9996\n",
      "Received buffer length: 408\n"
     ]
    },
    {
     "name": "stderr",
     "output_type": "stream",
     "text": [
      "127.0.0.1 - - [04/Nov/2024 12:13:42] \"GET /telemetry HTTP/1.1\" 200 -\n",
      "127.0.0.1 - - [04/Nov/2024 12:13:42] \"GET /telemetry HTTP/1.1\" 200 -\n",
      "127.0.0.1 - - [04/Nov/2024 12:13:44] \"GET /telemetry HTTP/1.1\" 200 -\n",
      "127.0.0.1 - - [04/Nov/2024 12:13:44] \"GET /telemetry HTTP/1.1\" 200 -\n",
      "127.0.0.1 - - [04/Nov/2024 12:13:46] \"GET /telemetry HTTP/1.1\" 200 -\n",
      "127.0.0.1 - - [04/Nov/2024 12:13:46] \"GET /telemetry HTTP/1.1\" 200 -\n"
     ]
    },
    {
     "name": "stdout",
     "output_type": "stream",
     "text": [
      "Sending handshake...\n",
      "Packet sent to 127.0.0.1:9996\n",
      "Sending update...\n",
      "Packet sent to 127.0.0.1:9996\n",
      "Received buffer length: 408\n"
     ]
    },
    {
     "name": "stderr",
     "output_type": "stream",
     "text": [
      "127.0.0.1 - - [04/Nov/2024 12:13:48] \"GET /telemetry HTTP/1.1\" 200 -\n",
      "127.0.0.1 - - [04/Nov/2024 12:13:48] \"GET /telemetry HTTP/1.1\" 200 -\n",
      "127.0.0.1 - - [04/Nov/2024 12:13:50] \"GET /telemetry HTTP/1.1\" 200 -\n",
      "127.0.0.1 - - [04/Nov/2024 12:13:50] \"GET /telemetry HTTP/1.1\" 200 -\n"
     ]
    },
    {
     "name": "stdout",
     "output_type": "stream",
     "text": [
      "Sending handshake...\n",
      "Packet sent to 127.0.0.1:9996\n",
      "Sending update...\n",
      "Packet sent to 127.0.0.1:9996\n",
      "Received buffer length: 408\n"
     ]
    },
    {
     "name": "stderr",
     "output_type": "stream",
     "text": [
      "127.0.0.1 - - [04/Nov/2024 12:13:52] \"GET /telemetry HTTP/1.1\" 200 -\n",
      "127.0.0.1 - - [04/Nov/2024 12:13:52] \"GET /telemetry HTTP/1.1\" 200 -\n",
      "127.0.0.1 - - [04/Nov/2024 12:13:54] \"GET /telemetry HTTP/1.1\" 200 -\n",
      "127.0.0.1 - - [04/Nov/2024 12:13:54] \"GET /telemetry HTTP/1.1\" 200 -\n",
      "127.0.0.1 - - [04/Nov/2024 12:13:56] \"GET /telemetry HTTP/1.1\" 200 -\n",
      "127.0.0.1 - - [04/Nov/2024 12:13:56] \"GET /telemetry HTTP/1.1\" 200 -\n"
     ]
    },
    {
     "name": "stdout",
     "output_type": "stream",
     "text": [
      "Sending handshake...\n",
      "Packet sent to 127.0.0.1:9996\n",
      "Sending update...\n",
      "Packet sent to 127.0.0.1:9996\n",
      "Received buffer length: 408\n"
     ]
    },
    {
     "name": "stderr",
     "output_type": "stream",
     "text": [
      "127.0.0.1 - - [04/Nov/2024 12:13:58] \"GET /telemetry HTTP/1.1\" 200 -\n",
      "127.0.0.1 - - [04/Nov/2024 12:13:58] \"GET /telemetry HTTP/1.1\" 200 -\n",
      "127.0.0.1 - - [04/Nov/2024 12:14:00] \"GET /telemetry HTTP/1.1\" 200 -\n"
     ]
    }
   ],
   "source": [
    "from flask import Flask, jsonify\n",
    "from flask_cors import CORS  # Import CORS\n",
    "\n",
    "import socket\n",
    "import struct\n",
    "import time\n",
    "import ctypes\n",
    "import mmap\n",
    "from threading import Thread\n",
    "\n",
    "app = Flask(__name__)\n",
    "CORS(app)  # Enable CORS for all routes\n",
    "\n",
    "# Define telemetry data structures\n",
    "class vec3(ctypes.Structure):\n",
    "    _pack_ = 4\n",
    "    _fields_ = [\n",
    "        ('x', ctypes.c_float),\n",
    "        ('y', ctypes.c_float),\n",
    "        ('z', ctypes.c_float)\n",
    "    ]\n",
    "\n",
    "class acsVehicleInfo(ctypes.Structure):\n",
    "    _pack_ = 4\n",
    "    _fields_ = [\n",
    "        ('carId', ctypes.c_int32),\n",
    "        ('driverName', ctypes.c_char * 64),\n",
    "        ('carModel', ctypes.c_char * 64),\n",
    "        ('speedMS', ctypes.c_float),\n",
    "        ('bestLapMS', ctypes.c_int32),\n",
    "        ('lapCount', ctypes.c_int32),\n",
    "        ('currentLapInvalid', ctypes.c_int32),\n",
    "        ('currentLapTimeMS', ctypes.c_int32),\n",
    "        ('lastLapTimeMS', ctypes.c_int32),\n",
    "        ('worldPosition', vec3),\n",
    "        ('isCarInPitline', ctypes.c_int32),\n",
    "        ('isCarInPit', ctypes.c_int32),\n",
    "        ('carLeaderboardPosition', ctypes.c_int32),\n",
    "        ('carRealTimeLeaderboardPosition', ctypes.c_int32),\n",
    "        ('spLineLength', ctypes.c_float),\n",
    "        ('isConnected', ctypes.c_int32),\n",
    "        ('suspensionDamage', ctypes.c_float * 4),\n",
    "        ('engineLifeLeft', ctypes.c_float),\n",
    "        ('tyreInflation', ctypes.c_float * 4)\n",
    "    ]\n",
    "\n",
    "class SPageFileSimHub(ctypes.Structure):\n",
    "    _pack_ = 4\n",
    "    _fields_ = [\n",
    "        ('numVehicles', ctypes.c_int32),\n",
    "        ('focusVehicle', ctypes.c_int32),\n",
    "        ('serverName', ctypes.c_char * 512),\n",
    "        ('vehicleInfo', acsVehicleInfo * 64),\n",
    "        ('acInstallPath', ctypes.c_char * 512),\n",
    "        ('isInternalMemoryModuleLoaded', ctypes.c_int32),\n",
    "        ('pluginVersion', ctypes.c_char * 32)\n",
    "    ]\n",
    "\n",
    "class SimHubShared:\n",
    "    def __init__(self):\n",
    "        self._acpmf_simhub = mmap.mmap(0, ctypes.sizeof(SPageFileSimHub), \"acpmf_simhub\")\n",
    "        self.simhub = SPageFileSimHub.from_buffer(self._acpmf_simhub)\n",
    "\n",
    "# Global variable to store telemetry data\n",
    "telemetry_data = []\n",
    "\n",
    "class ACUDP:\n",
    "    def __init__(self, ip, port=9996):\n",
    "        self.udp_address = ip\n",
    "        self.udp_port = port\n",
    "        self.sock = socket.socket(socket.AF_INET, socket.SOCK_DGRAM)\n",
    "        self.sock.settimeout(5)\n",
    "        print(f\"Socket initialized with IP {ip} and port {port}\")\n",
    "\n",
    "        # Handshake data\n",
    "        self.hand = struct.pack('iii', 1, 1, 0)\n",
    "        self.update = struct.pack('iii', 1, 1, 1)\n",
    "        self.spot = struct.pack('iii', 1, 1, 2)\n",
    "        self.quit = struct.pack('iii', 0, 0, 0)\n",
    "        self.is_update = False\n",
    "\n",
    "        # Initialize SimHub shared memory\n",
    "        try:\n",
    "            self.simhub_shared = SimHubShared()\n",
    "            print(\"SimHub shared memory initialized.\")\n",
    "        except Exception as e:\n",
    "            print(f\"Error initializing SimHub shared memory: {e}\")\n",
    "            self.simhub_shared = None\n",
    "\n",
    "    def send_packet(self, data):\n",
    "        try:\n",
    "            self.sock.sendto(data, (self.udp_address, self.udp_port))\n",
    "            print(f\"Packet sent to {self.udp_address}:{self.udp_port}\")\n",
    "        except Exception as e:\n",
    "            print(f\"Failed to send packet: {e}\")\n",
    "\n",
    "    def send_handshake(self):\n",
    "        print(\"Sending handshake...\")\n",
    "        self.send_packet(self.hand)\n",
    "\n",
    "    def send_update(self):\n",
    "        print(\"Sending update...\")\n",
    "        self.send_packet(self.update)\n",
    "        self.is_update = True\n",
    "\n",
    "    def send_spot(self):\n",
    "        print(\"Sending spot...\")\n",
    "        self.send_packet(self.spot)\n",
    "        self.is_update = False\n",
    "\n",
    "    def send_quit(self):\n",
    "        print(\"Sending quit...\")\n",
    "        self.send_packet(self.quit)\n",
    "\n",
    "    def read_update(self):\n",
    "        try:\n",
    "            buffer, _ = self.sock.recvfrom(1024)\n",
    "            print(f\"Received buffer length: {len(buffer)}\")\n",
    "            # Process and print buffer data as needed\n",
    "            return buffer\n",
    "        except socket.timeout:\n",
    "            print(\"Timeout: No data received\")\n",
    "        except Exception as e:\n",
    "            print(f\"Error receiving data: {e}\")\n",
    "\n",
    "    def read_spot(self):\n",
    "        # Placeholder for spot data reading\n",
    "        print(\"Reading spot data...\")\n",
    "\n",
    "    def read_simhub_data(self):\n",
    "        \"\"\"Read all available data from SimHub shared memory for each vehicle.\"\"\"\n",
    "        global telemetry_data\n",
    "        telemetry_data = []  # Clear previous data\n",
    "\n",
    "        if self.simhub_shared is None:\n",
    "            print(\"SimHub shared memory not available.\")\n",
    "            return None\n",
    "        try:\n",
    "            simhub_data = self.simhub_shared.simhub\n",
    "            for i in range(simhub_data.numVehicles):\n",
    "                vehicle = simhub_data.vehicleInfo[i]\n",
    "                telemetry_data.append({\n",
    "                    \"CarID\": vehicle.carId,\n",
    "                    \"DriverName\": vehicle.driverName.decode('utf-8').strip(),\n",
    "                    \"CarModel\": vehicle.carModel.decode('utf-8').strip(),\n",
    "                    \"SpeedKmh\": vehicle.speedMS * 3.6,\n",
    "                    \"BestLapTimeSec\": vehicle.bestLapMS / 1000,\n",
    "                    \"LapCount\": vehicle.lapCount,\n",
    "                    \"CurrentLapTimeSec\": vehicle.currentLapTimeMS / 1000,\n",
    "                    \"LastLapTimeSec\": vehicle.lastLapTimeMS / 1000,\n",
    "                    \"Position\": {\n",
    "                        \"x\": vehicle.worldPosition.x,\n",
    "                        \"y\": vehicle.worldPosition.y,\n",
    "                        \"z\": vehicle.worldPosition.z\n",
    "                    },\n",
    "                    \"InPit\": bool(vehicle.isCarInPit),\n",
    "                    \"LeaderboardPosition\": vehicle.carLeaderboardPosition,\n",
    "                    \"SuspensionDamage\": list(vehicle.suspensionDamage),\n",
    "                    \"EngineLifeLeft\": vehicle.engineLifeLeft,\n",
    "                    \"TyreInflation\": list(vehicle.tyreInflation)\n",
    "                })\n",
    "            return simhub_data\n",
    "        except Exception as e:\n",
    "            print(f\"Error reading SimHub data: {e}\")\n",
    "            return None\n",
    "\n",
    "    def read(self):\n",
    "        if self.is_update:\n",
    "            self.read_update()\n",
    "        else:\n",
    "            self.read_spot()\n",
    "        self.read_simhub_data()  # Include SimHub data read\n",
    "\n",
    "# Flask endpoint for JSON data\n",
    "@app.route('/telemetry')\n",
    "def get_telemetry():\n",
    "    return jsonify(telemetry_data)\n",
    "\n",
    "def start_flask():\n",
    "    app.run(host=\"0.0.0.0\", port=5000)\n",
    "\n",
    "if __name__ == \"__main__\":\n",
    "    # Start Flask server in a separate thread\n",
    "    flask_thread = Thread(target=start_flask)\n",
    "    flask_thread.daemon = True\n",
    "    flask_thread.start()\n",
    "\n",
    "    # Start reading telemetry data\n",
    "    acudp = ACUDP(\"127.0.0.1\", 9996)\n",
    "    while True:\n",
    "        acudp.send_handshake()\n",
    "        acudp.send_update()\n",
    "        acudp.read()\n",
    "        time.sleep(1)\n"
   ]
  },
  {
   "cell_type": "code",
   "execution_count": null,
   "id": "f33484d7-77a9-445e-9d60-669446ff787b",
   "metadata": {},
   "outputs": [],
   "source": []
  }
 ],
 "metadata": {
  "kernelspec": {
   "display_name": "Python 3 (ipykernel)",
   "language": "python",
   "name": "python3"
  },
  "language_info": {
   "codemirror_mode": {
    "name": "ipython",
    "version": 3
   },
   "file_extension": ".py",
   "mimetype": "text/x-python",
   "name": "python",
   "nbconvert_exporter": "python",
   "pygments_lexer": "ipython3",
   "version": "3.12.4"
  }
 },
 "nbformat": 4,
 "nbformat_minor": 5
}
